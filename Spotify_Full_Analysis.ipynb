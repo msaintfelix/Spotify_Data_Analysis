{
 "cells": [
  {
   "cell_type": "markdown",
   "metadata": {},
   "source": [
    "# Spotify Data Analysis: Song Popularity Predictions, Complete Model Benchmarking."
   ]
  },
  {
   "cell_type": "markdown",
   "metadata": {},
   "source": [
    "The objective of this notebook is to predict the popularity of a song using a 600k song dataset from Kaggle:\n",
    "https://www.kaggle.com/marchenrysaintfelix/spotify-600k-song-database/download\n",
    "\n",
    "We will use a mix of categorical and numerical features from 'tracks.csv' to benchmark several models with Scikit-Learn Pipelines and fine-tune hyperparameters with GridSearchCV. The objective is to minimize the \"mean_absolute_error\" metric of a numerical target feature."
   ]
  },
  {
   "cell_type": "code",
   "execution_count": 1,
   "metadata": {},
   "outputs": [],
   "source": [
    "import numpy as np\n",
    "import pandas as pd\n",
    "import seaborn as sns\n",
    "\n",
    "from sklearn.compose import make_column_selector as selector\n",
    "from sklearn.compose import ColumnTransformer\n",
    "from sklearn.pipeline import make_pipeline\n",
    "from sklearn.preprocessing import OneHotEncoder, MinMaxScaler\n",
    "\n",
    "from sklearn.linear_model import LinearRegression\n",
    "\n",
    "from sklearn.model_selection import train_test_split\n",
    "from sklearn import set_config\n",
    "from sklearn.metrics import mean_absolute_error\n",
    "\n",
    "from yellowbrick.regressor import ResidualsPlot\n",
    "from yellowbrick.regressor import PredictionError"
   ]
  },
  {
   "cell_type": "markdown",
   "metadata": {},
   "source": [
    "# Exploratory Data Analysis"
   ]
  },
  {
   "cell_type": "markdown",
   "metadata": {},
   "source": [
    "The dataset has 20 features (numerical and categorical) and has nearly 600 000 songs. Let's check for NaN values. The column 'name' is the only column with NaN values and it will be dropped later on as it is of no use for our model:"
   ]
  },
  {
   "cell_type": "code",
   "execution_count": 2,
   "metadata": {},
   "outputs": [
    {
     "name": "stdout",
     "output_type": "stream",
     "text": [
      "<class 'pandas.core.frame.DataFrame'>\n",
      "RangeIndex: 586672 entries, 0 to 586671\n",
      "Data columns (total 20 columns):\n",
      " #   Column            Non-Null Count   Dtype  \n",
      "---  ------            --------------   -----  \n",
      " 0   id                586672 non-null  object \n",
      " 1   name              586601 non-null  object \n",
      " 2   popularity        586672 non-null  int64  \n",
      " 3   duration_ms       586672 non-null  int64  \n",
      " 4   explicit          586672 non-null  int64  \n",
      " 5   artists           586672 non-null  object \n",
      " 6   id_artists        586672 non-null  object \n",
      " 7   release_date      586672 non-null  object \n",
      " 8   danceability      586672 non-null  float64\n",
      " 9   energy            586672 non-null  float64\n",
      " 10  key               586672 non-null  int64  \n",
      " 11  loudness          586672 non-null  float64\n",
      " 12  mode              586672 non-null  int64  \n",
      " 13  speechiness       586672 non-null  float64\n",
      " 14  acousticness      586672 non-null  float64\n",
      " 15  instrumentalness  586672 non-null  float64\n",
      " 16  liveness          586672 non-null  float64\n",
      " 17  valence           586672 non-null  float64\n",
      " 18  tempo             586672 non-null  float64\n",
      " 19  time_signature    586672 non-null  int64  \n",
      "dtypes: float64(9), int64(6), object(5)\n",
      "memory usage: 89.5+ MB\n"
     ]
    }
   ],
   "source": [
    "df = pd.read_csv('Dataset/tracks.csv')\n",
    "df.info()"
   ]
  },
  {
   "cell_type": "code",
   "execution_count": 3,
   "metadata": {},
   "outputs": [
    {
     "data": {
      "text/html": [
       "<div>\n",
       "<style scoped>\n",
       "    .dataframe tbody tr th:only-of-type {\n",
       "        vertical-align: middle;\n",
       "    }\n",
       "\n",
       "    .dataframe tbody tr th {\n",
       "        vertical-align: top;\n",
       "    }\n",
       "\n",
       "    .dataframe thead th {\n",
       "        text-align: right;\n",
       "    }\n",
       "</style>\n",
       "<table border=\"1\" class=\"dataframe\">\n",
       "  <thead>\n",
       "    <tr style=\"text-align: right;\">\n",
       "      <th></th>\n",
       "      <th>id</th>\n",
       "      <th>name</th>\n",
       "      <th>popularity</th>\n",
       "      <th>duration_ms</th>\n",
       "      <th>explicit</th>\n",
       "      <th>artists</th>\n",
       "      <th>id_artists</th>\n",
       "      <th>release_date</th>\n",
       "      <th>danceability</th>\n",
       "      <th>energy</th>\n",
       "      <th>key</th>\n",
       "      <th>loudness</th>\n",
       "      <th>mode</th>\n",
       "      <th>speechiness</th>\n",
       "      <th>acousticness</th>\n",
       "      <th>instrumentalness</th>\n",
       "      <th>liveness</th>\n",
       "      <th>valence</th>\n",
       "      <th>tempo</th>\n",
       "      <th>time_signature</th>\n",
       "    </tr>\n",
       "  </thead>\n",
       "  <tbody>\n",
       "    <tr>\n",
       "      <th>0</th>\n",
       "      <td>35iwgR4jXetI318WEWsa1Q</td>\n",
       "      <td>Carve</td>\n",
       "      <td>6</td>\n",
       "      <td>126903</td>\n",
       "      <td>0</td>\n",
       "      <td>['Uli']</td>\n",
       "      <td>['45tIt06XoI0Iio4LBEVpls']</td>\n",
       "      <td>1922-02-22</td>\n",
       "      <td>0.645</td>\n",
       "      <td>0.4450</td>\n",
       "      <td>0</td>\n",
       "      <td>-13.338</td>\n",
       "      <td>1</td>\n",
       "      <td>0.4510</td>\n",
       "      <td>0.674</td>\n",
       "      <td>0.744000</td>\n",
       "      <td>0.1510</td>\n",
       "      <td>0.1270</td>\n",
       "      <td>104.851</td>\n",
       "      <td>3</td>\n",
       "    </tr>\n",
       "    <tr>\n",
       "      <th>1</th>\n",
       "      <td>021ht4sdgPcrDgSk7JTbKY</td>\n",
       "      <td>Capítulo 2.16 - Banquero Anarquista</td>\n",
       "      <td>0</td>\n",
       "      <td>98200</td>\n",
       "      <td>0</td>\n",
       "      <td>['Fernando Pessoa']</td>\n",
       "      <td>['14jtPCOoNZwquk5wd9DxrY']</td>\n",
       "      <td>1922-06-01</td>\n",
       "      <td>0.695</td>\n",
       "      <td>0.2630</td>\n",
       "      <td>0</td>\n",
       "      <td>-22.136</td>\n",
       "      <td>1</td>\n",
       "      <td>0.9570</td>\n",
       "      <td>0.797</td>\n",
       "      <td>0.000000</td>\n",
       "      <td>0.1480</td>\n",
       "      <td>0.6550</td>\n",
       "      <td>102.009</td>\n",
       "      <td>1</td>\n",
       "    </tr>\n",
       "    <tr>\n",
       "      <th>2</th>\n",
       "      <td>07A5yehtSnoedViJAZkNnc</td>\n",
       "      <td>Vivo para Quererte - Remasterizado</td>\n",
       "      <td>0</td>\n",
       "      <td>181640</td>\n",
       "      <td>0</td>\n",
       "      <td>['Ignacio Corsini']</td>\n",
       "      <td>['5LiOoJbxVSAMkBS2fUm3X2']</td>\n",
       "      <td>1922-03-21</td>\n",
       "      <td>0.434</td>\n",
       "      <td>0.1770</td>\n",
       "      <td>1</td>\n",
       "      <td>-21.180</td>\n",
       "      <td>1</td>\n",
       "      <td>0.0512</td>\n",
       "      <td>0.994</td>\n",
       "      <td>0.021800</td>\n",
       "      <td>0.2120</td>\n",
       "      <td>0.4570</td>\n",
       "      <td>130.418</td>\n",
       "      <td>5</td>\n",
       "    </tr>\n",
       "    <tr>\n",
       "      <th>3</th>\n",
       "      <td>08FmqUhxtyLTn6pAh6bk45</td>\n",
       "      <td>El Prisionero - Remasterizado</td>\n",
       "      <td>0</td>\n",
       "      <td>176907</td>\n",
       "      <td>0</td>\n",
       "      <td>['Ignacio Corsini']</td>\n",
       "      <td>['5LiOoJbxVSAMkBS2fUm3X2']</td>\n",
       "      <td>1922-03-21</td>\n",
       "      <td>0.321</td>\n",
       "      <td>0.0946</td>\n",
       "      <td>7</td>\n",
       "      <td>-27.961</td>\n",
       "      <td>1</td>\n",
       "      <td>0.0504</td>\n",
       "      <td>0.995</td>\n",
       "      <td>0.918000</td>\n",
       "      <td>0.1040</td>\n",
       "      <td>0.3970</td>\n",
       "      <td>169.980</td>\n",
       "      <td>3</td>\n",
       "    </tr>\n",
       "    <tr>\n",
       "      <th>4</th>\n",
       "      <td>08y9GfoqCWfOGsKdwojr5e</td>\n",
       "      <td>Lady of the Evening</td>\n",
       "      <td>0</td>\n",
       "      <td>163080</td>\n",
       "      <td>0</td>\n",
       "      <td>['Dick Haymes']</td>\n",
       "      <td>['3BiJGZsyX9sJchTqcSA7Su']</td>\n",
       "      <td>1922</td>\n",
       "      <td>0.402</td>\n",
       "      <td>0.1580</td>\n",
       "      <td>3</td>\n",
       "      <td>-16.900</td>\n",
       "      <td>0</td>\n",
       "      <td>0.0390</td>\n",
       "      <td>0.989</td>\n",
       "      <td>0.130000</td>\n",
       "      <td>0.3110</td>\n",
       "      <td>0.1960</td>\n",
       "      <td>103.220</td>\n",
       "      <td>4</td>\n",
       "    </tr>\n",
       "    <tr>\n",
       "      <th>5</th>\n",
       "      <td>0BRXJHRNGQ3W4v9frnSfhu</td>\n",
       "      <td>Ave Maria</td>\n",
       "      <td>0</td>\n",
       "      <td>178933</td>\n",
       "      <td>0</td>\n",
       "      <td>['Dick Haymes']</td>\n",
       "      <td>['3BiJGZsyX9sJchTqcSA7Su']</td>\n",
       "      <td>1922</td>\n",
       "      <td>0.227</td>\n",
       "      <td>0.2610</td>\n",
       "      <td>5</td>\n",
       "      <td>-12.343</td>\n",
       "      <td>1</td>\n",
       "      <td>0.0382</td>\n",
       "      <td>0.994</td>\n",
       "      <td>0.247000</td>\n",
       "      <td>0.0977</td>\n",
       "      <td>0.0539</td>\n",
       "      <td>118.891</td>\n",
       "      <td>4</td>\n",
       "    </tr>\n",
       "    <tr>\n",
       "      <th>6</th>\n",
       "      <td>0Dd9ImXtAtGwsmsAD69KZT</td>\n",
       "      <td>La Butte Rouge</td>\n",
       "      <td>0</td>\n",
       "      <td>134467</td>\n",
       "      <td>0</td>\n",
       "      <td>['Francis Marty']</td>\n",
       "      <td>['2nuMRGzeJ5jJEKlfS7rZ0W']</td>\n",
       "      <td>1922</td>\n",
       "      <td>0.510</td>\n",
       "      <td>0.3550</td>\n",
       "      <td>4</td>\n",
       "      <td>-12.833</td>\n",
       "      <td>1</td>\n",
       "      <td>0.1240</td>\n",
       "      <td>0.965</td>\n",
       "      <td>0.000000</td>\n",
       "      <td>0.1550</td>\n",
       "      <td>0.7270</td>\n",
       "      <td>85.754</td>\n",
       "      <td>5</td>\n",
       "    </tr>\n",
       "    <tr>\n",
       "      <th>7</th>\n",
       "      <td>0IA0Hju8CAgYfV1hwhidBH</td>\n",
       "      <td>La Java</td>\n",
       "      <td>0</td>\n",
       "      <td>161427</td>\n",
       "      <td>0</td>\n",
       "      <td>['Mistinguett']</td>\n",
       "      <td>['4AxgXfD7ISvJSTObqm4aIE']</td>\n",
       "      <td>1922</td>\n",
       "      <td>0.563</td>\n",
       "      <td>0.1840</td>\n",
       "      <td>4</td>\n",
       "      <td>-13.757</td>\n",
       "      <td>1</td>\n",
       "      <td>0.0512</td>\n",
       "      <td>0.993</td>\n",
       "      <td>0.000016</td>\n",
       "      <td>0.3250</td>\n",
       "      <td>0.6540</td>\n",
       "      <td>133.088</td>\n",
       "      <td>3</td>\n",
       "    </tr>\n",
       "    <tr>\n",
       "      <th>8</th>\n",
       "      <td>0IgI1UCz84pYeVetnl1lGP</td>\n",
       "      <td>Old Fashioned Girl</td>\n",
       "      <td>0</td>\n",
       "      <td>310073</td>\n",
       "      <td>0</td>\n",
       "      <td>['Greg Fieler']</td>\n",
       "      <td>['5nWlsH5RDgFuRAiDeOFVmf']</td>\n",
       "      <td>1922</td>\n",
       "      <td>0.488</td>\n",
       "      <td>0.4750</td>\n",
       "      <td>0</td>\n",
       "      <td>-16.222</td>\n",
       "      <td>0</td>\n",
       "      <td>0.0399</td>\n",
       "      <td>0.620</td>\n",
       "      <td>0.006450</td>\n",
       "      <td>0.1070</td>\n",
       "      <td>0.5440</td>\n",
       "      <td>139.952</td>\n",
       "      <td>4</td>\n",
       "    </tr>\n",
       "    <tr>\n",
       "      <th>9</th>\n",
       "      <td>0JV4iqw2lSKJaHBQZ0e5zK</td>\n",
       "      <td>Martín Fierro - Remasterizado</td>\n",
       "      <td>0</td>\n",
       "      <td>181173</td>\n",
       "      <td>0</td>\n",
       "      <td>['Ignacio Corsini']</td>\n",
       "      <td>['5LiOoJbxVSAMkBS2fUm3X2']</td>\n",
       "      <td>1922-03-29</td>\n",
       "      <td>0.548</td>\n",
       "      <td>0.0391</td>\n",
       "      <td>6</td>\n",
       "      <td>-23.228</td>\n",
       "      <td>1</td>\n",
       "      <td>0.1530</td>\n",
       "      <td>0.996</td>\n",
       "      <td>0.933000</td>\n",
       "      <td>0.1480</td>\n",
       "      <td>0.6120</td>\n",
       "      <td>75.595</td>\n",
       "      <td>3</td>\n",
       "    </tr>\n",
       "  </tbody>\n",
       "</table>\n",
       "</div>"
      ],
      "text/plain": [
       "                       id                                 name  popularity  \\\n",
       "0  35iwgR4jXetI318WEWsa1Q                                Carve           6   \n",
       "1  021ht4sdgPcrDgSk7JTbKY  Capítulo 2.16 - Banquero Anarquista           0   \n",
       "2  07A5yehtSnoedViJAZkNnc   Vivo para Quererte - Remasterizado           0   \n",
       "3  08FmqUhxtyLTn6pAh6bk45        El Prisionero - Remasterizado           0   \n",
       "4  08y9GfoqCWfOGsKdwojr5e                  Lady of the Evening           0   \n",
       "5  0BRXJHRNGQ3W4v9frnSfhu                            Ave Maria           0   \n",
       "6  0Dd9ImXtAtGwsmsAD69KZT                       La Butte Rouge           0   \n",
       "7  0IA0Hju8CAgYfV1hwhidBH                              La Java           0   \n",
       "8  0IgI1UCz84pYeVetnl1lGP                   Old Fashioned Girl           0   \n",
       "9  0JV4iqw2lSKJaHBQZ0e5zK        Martín Fierro - Remasterizado           0   \n",
       "\n",
       "   duration_ms  explicit              artists                  id_artists  \\\n",
       "0       126903         0              ['Uli']  ['45tIt06XoI0Iio4LBEVpls']   \n",
       "1        98200         0  ['Fernando Pessoa']  ['14jtPCOoNZwquk5wd9DxrY']   \n",
       "2       181640         0  ['Ignacio Corsini']  ['5LiOoJbxVSAMkBS2fUm3X2']   \n",
       "3       176907         0  ['Ignacio Corsini']  ['5LiOoJbxVSAMkBS2fUm3X2']   \n",
       "4       163080         0      ['Dick Haymes']  ['3BiJGZsyX9sJchTqcSA7Su']   \n",
       "5       178933         0      ['Dick Haymes']  ['3BiJGZsyX9sJchTqcSA7Su']   \n",
       "6       134467         0    ['Francis Marty']  ['2nuMRGzeJ5jJEKlfS7rZ0W']   \n",
       "7       161427         0      ['Mistinguett']  ['4AxgXfD7ISvJSTObqm4aIE']   \n",
       "8       310073         0      ['Greg Fieler']  ['5nWlsH5RDgFuRAiDeOFVmf']   \n",
       "9       181173         0  ['Ignacio Corsini']  ['5LiOoJbxVSAMkBS2fUm3X2']   \n",
       "\n",
       "  release_date  danceability  energy  key  loudness  mode  speechiness  \\\n",
       "0   1922-02-22         0.645  0.4450    0   -13.338     1       0.4510   \n",
       "1   1922-06-01         0.695  0.2630    0   -22.136     1       0.9570   \n",
       "2   1922-03-21         0.434  0.1770    1   -21.180     1       0.0512   \n",
       "3   1922-03-21         0.321  0.0946    7   -27.961     1       0.0504   \n",
       "4         1922         0.402  0.1580    3   -16.900     0       0.0390   \n",
       "5         1922         0.227  0.2610    5   -12.343     1       0.0382   \n",
       "6         1922         0.510  0.3550    4   -12.833     1       0.1240   \n",
       "7         1922         0.563  0.1840    4   -13.757     1       0.0512   \n",
       "8         1922         0.488  0.4750    0   -16.222     0       0.0399   \n",
       "9   1922-03-29         0.548  0.0391    6   -23.228     1       0.1530   \n",
       "\n",
       "   acousticness  instrumentalness  liveness  valence    tempo  time_signature  \n",
       "0         0.674          0.744000    0.1510   0.1270  104.851               3  \n",
       "1         0.797          0.000000    0.1480   0.6550  102.009               1  \n",
       "2         0.994          0.021800    0.2120   0.4570  130.418               5  \n",
       "3         0.995          0.918000    0.1040   0.3970  169.980               3  \n",
       "4         0.989          0.130000    0.3110   0.1960  103.220               4  \n",
       "5         0.994          0.247000    0.0977   0.0539  118.891               4  \n",
       "6         0.965          0.000000    0.1550   0.7270   85.754               5  \n",
       "7         0.993          0.000016    0.3250   0.6540  133.088               3  \n",
       "8         0.620          0.006450    0.1070   0.5440  139.952               4  \n",
       "9         0.996          0.933000    0.1480   0.6120   75.595               3  "
      ]
     },
     "execution_count": 3,
     "metadata": {},
     "output_type": "execute_result"
    }
   ],
   "source": [
    "df.head(10)"
   ]
  },
  {
   "cell_type": "markdown",
   "metadata": {},
   "source": [
    "The purpose of the following function is to replace artists names by their popularity quantiles. It was developped for future usage only. This encoding method introduces the concept of artist bias when evaluating a song: a given song will generally be rated higher when the artist is famous.\n",
    "\n",
    "We will not make use of this function due to lack of detailed information from the dataset author about rating methods and given the purpose of this study (predicting the popularity of a song, based on its acoustic features only)."
   ]
  },
  {
   "cell_type": "code",
   "execution_count": 4,
   "metadata": {},
   "outputs": [],
   "source": [
    "def encode_artist_popularity(df, num_quantiles=10):\n",
    "    \"\"\"\n",
    "    Select the main artist for each song (first name when list of artists)\n",
    "    Rank main artists by popularity \n",
    "    Replace the 'artists' column by quantiles of popularity for each song\n",
    "    Return a dataframe with 'artist_ranking' quantile instead of initial 'artists' names.\n",
    "    \n",
    "    \"\"\"\n",
    "    df['artists'] = df['artists'].apply(eval)\n",
    "    artists_dict = df.artists.to_dict()\n",
    "\n",
    "    for i in range(len(artists_dict)):\n",
    "        artists_dict[i] = artists_dict[i][0]\n",
    "    \n",
    "    df['artists'] = pd.DataFrame.from_dict(artists_dict, orient='index')\n",
    "    \n",
    "    artists_df = df[['artists', 'popularity']].groupby('artists').sum().sort_values(by='popularity', ascending=False)\n",
    "    artists_df['artist_ranking'] = pd.qcut(artists_df['popularity'], num_quantiles, labels=False)\n",
    "    \n",
    "    data_artists = artists_df.loc[df['artists']].reset_index()\n",
    "    df['artists'] = data_artists['artist_ranking']\n",
    "    \n",
    "    return df"
   ]
  },
  {
   "cell_type": "code",
   "execution_count": 5,
   "metadata": {
    "scrolled": true
   },
   "outputs": [],
   "source": [
    "#df = encode_artist_popularity(df, 10)\n",
    "#df.head(10)"
   ]
  },
  {
   "cell_type": "markdown",
   "metadata": {},
   "source": [
    "Let's shuffle our dataset and visualize the distribution of the 'popularity' target feature (100 bins for 0-100 ratings):"
   ]
  },
  {
   "cell_type": "code",
   "execution_count": 6,
   "metadata": {},
   "outputs": [
    {
     "data": {
      "text/plain": [
       "<AxesSubplot:ylabel='Frequency'>"
      ]
     },
     "execution_count": 6,
     "metadata": {},
     "output_type": "execute_result"
    },
    {
     "data": {
      "image/png": "[encoded data removed]",
      "text/plain": [
       "<Figure size 576x396 with 1 Axes>"
      ]
     },
     "metadata": {},
     "output_type": "display_data"
    }
   ],
   "source": [
    "df = df.sample(frac=1).reset_index(drop=True)\n",
    "df[['popularity']].plot.hist(bins=100)"
   ]
  },
  {
   "cell_type": "markdown",
   "metadata": {},
   "source": [
    "It seems like a significant amount of songs were not rated, or very rarely/poorly rated (no information about rating methods was provided). Consequently, our distribution appears to be skewed by these outliers. in order to preserve a more Gaussian-like distribution, let's get rid of them so we can learn relevant patterns from the rest of our data:"
   ]
  },
  {
   "cell_type": "code",
   "execution_count": 7,
   "metadata": {},
   "outputs": [
    {
     "data": {
      "text/plain": [
       "<AxesSubplot:ylabel='Frequency'>"
      ]
     },
     "execution_count": 7,
     "metadata": {},
     "output_type": "execute_result"
    },
    {
     "data": {
      "image/png": "[encoded data removed]",
      "text/plain": [
       "<Figure size 576x396 with 1 Axes>"
      ]
     },
     "metadata": {},
     "output_type": "display_data"
    }
   ],
   "source": [
    "df.drop(df[df['popularity']<5].index, inplace=True)\n",
    "df[['popularity']].plot.hist(bins=100)"
   ]
  },
  {
   "cell_type": "markdown",
   "metadata": {},
   "source": [
    "Some songs might have badly encoded/skewed features: getting rid of songs that have 'tempo'==0 (which is technically impossible) and making sure these outliers are not simply spoken files by checking their 'speechiness'.\n",
    "Also getting rid of songs which have a 'time_signature' of 0 or 1 (which is technically impossible)."
   ]
  },
  {
   "cell_type": "code",
   "execution_count": 8,
   "metadata": {},
   "outputs": [],
   "source": [
    "df.drop(df[(df['tempo']==0) & (df['speechiness']==0)].index, inplace=True)\n",
    "df.drop(df[df['time_signature']<2].index, inplace=True)"
   ]
  },
  {
   "cell_type": "markdown",
   "metadata": {},
   "source": [
    "At this point, as per best practice recommendations, we are going to create a test set called 'test_data' that we will completely set aside in order to avoid 'data snooping bias'. This dataset will allow us to perform evaluation of the final fine-tuned model we will later select. Model selection and performance evaluation will be performed on a subset of 'train_data' called 'val_set' (e.g a validation dataset)."
   ]
  },
  {
   "cell_type": "code",
   "execution_count": 9,
   "metadata": {},
   "outputs": [],
   "source": [
    "train_data, test_data = train_test_split(df, test_size=0.2, random_state=42)"
   ]
  },
  {
   "cell_type": "markdown",
   "metadata": {},
   "source": [
    "Now let's define our X input matrix and y target vector:"
   ]
  },
  {
   "cell_type": "code",
   "execution_count": 10,
   "metadata": {},
   "outputs": [
    {
     "data": {
      "text/html": [
       "<div>\n",
       "<style scoped>\n",
       "    .dataframe tbody tr th:only-of-type {\n",
       "        vertical-align: middle;\n",
       "    }\n",
       "\n",
       "    .dataframe tbody tr th {\n",
       "        vertical-align: top;\n",
       "    }\n",
       "\n",
       "    .dataframe thead th {\n",
       "        text-align: right;\n",
       "    }\n",
       "</style>\n",
       "<table border=\"1\" class=\"dataframe\">\n",
       "  <thead>\n",
       "    <tr style=\"text-align: right;\">\n",
       "      <th></th>\n",
       "      <th>explicit</th>\n",
       "      <th>danceability</th>\n",
       "      <th>energy</th>\n",
       "      <th>key</th>\n",
       "      <th>loudness</th>\n",
       "      <th>mode</th>\n",
       "      <th>speechiness</th>\n",
       "      <th>acousticness</th>\n",
       "      <th>instrumentalness</th>\n",
       "      <th>liveness</th>\n",
       "      <th>valence</th>\n",
       "      <th>tempo</th>\n",
       "      <th>time_signature</th>\n",
       "    </tr>\n",
       "  </thead>\n",
       "  <tbody>\n",
       "    <tr>\n",
       "      <th>count</th>\n",
       "      <td>399435.000000</td>\n",
       "      <td>399435.000000</td>\n",
       "      <td>399435.000000</td>\n",
       "      <td>399435.000000</td>\n",
       "      <td>399435.000000</td>\n",
       "      <td>399435.000000</td>\n",
       "      <td>399435.000000</td>\n",
       "      <td>399435.000000</td>\n",
       "      <td>399435.000000</td>\n",
       "      <td>399435.000000</td>\n",
       "      <td>399435.000000</td>\n",
       "      <td>399435.000000</td>\n",
       "      <td>399435.000000</td>\n",
       "    </tr>\n",
       "    <tr>\n",
       "      <th>mean</th>\n",
       "      <td>0.049375</td>\n",
       "      <td>0.571208</td>\n",
       "      <td>0.568324</td>\n",
       "      <td>5.226663</td>\n",
       "      <td>-9.735599</td>\n",
       "      <td>0.654074</td>\n",
       "      <td>0.097682</td>\n",
       "      <td>0.405179</td>\n",
       "      <td>0.083442</td>\n",
       "      <td>0.212073</td>\n",
       "      <td>0.559369</td>\n",
       "      <td>119.413251</td>\n",
       "      <td>3.916284</td>\n",
       "    </tr>\n",
       "    <tr>\n",
       "      <th>std</th>\n",
       "      <td>0.216649</td>\n",
       "      <td>0.162858</td>\n",
       "      <td>0.241132</td>\n",
       "      <td>3.525346</td>\n",
       "      <td>4.751867</td>\n",
       "      <td>0.475670</td>\n",
       "      <td>0.165444</td>\n",
       "      <td>0.328042</td>\n",
       "      <td>0.229911</td>\n",
       "      <td>0.184909</td>\n",
       "      <td>0.254859</td>\n",
       "      <td>29.413099</td>\n",
       "      <td>0.332145</td>\n",
       "    </tr>\n",
       "    <tr>\n",
       "      <th>min</th>\n",
       "      <td>0.000000</td>\n",
       "      <td>0.055900</td>\n",
       "      <td>0.000020</td>\n",
       "      <td>0.000000</td>\n",
       "      <td>-54.837000</td>\n",
       "      <td>0.000000</td>\n",
       "      <td>0.021600</td>\n",
       "      <td>0.000000</td>\n",
       "      <td>0.000000</td>\n",
       "      <td>0.005720</td>\n",
       "      <td>0.000000</td>\n",
       "      <td>30.506000</td>\n",
       "      <td>3.000000</td>\n",
       "    </tr>\n",
       "    <tr>\n",
       "      <th>25%</th>\n",
       "      <td>0.000000</td>\n",
       "      <td>0.463000</td>\n",
       "      <td>0.389000</td>\n",
       "      <td>2.000000</td>\n",
       "      <td>-12.282000</td>\n",
       "      <td>0.000000</td>\n",
       "      <td>0.033400</td>\n",
       "      <td>0.082450</td>\n",
       "      <td>0.000000</td>\n",
       "      <td>0.096600</td>\n",
       "      <td>0.354000</td>\n",
       "      <td>96.480000</td>\n",
       "      <td>4.000000</td>\n",
       "    </tr>\n",
       "    <tr>\n",
       "      <th>50%</th>\n",
       "      <td>0.000000</td>\n",
       "      <td>0.584000</td>\n",
       "      <td>0.580000</td>\n",
       "      <td>5.000000</td>\n",
       "      <td>-8.852000</td>\n",
       "      <td>1.000000</td>\n",
       "      <td>0.043200</td>\n",
       "      <td>0.355000</td>\n",
       "      <td>0.000013</td>\n",
       "      <td>0.136000</td>\n",
       "      <td>0.570000</td>\n",
       "      <td>118.211000</td>\n",
       "      <td>4.000000</td>\n",
       "    </tr>\n",
       "    <tr>\n",
       "      <th>75%</th>\n",
       "      <td>0.000000</td>\n",
       "      <td>0.690000</td>\n",
       "      <td>0.764000</td>\n",
       "      <td>8.000000</td>\n",
       "      <td>-6.279000</td>\n",
       "      <td>1.000000</td>\n",
       "      <td>0.073400</td>\n",
       "      <td>0.706000</td>\n",
       "      <td>0.002920</td>\n",
       "      <td>0.275000</td>\n",
       "      <td>0.775000</td>\n",
       "      <td>137.455000</td>\n",
       "      <td>4.000000</td>\n",
       "    </tr>\n",
       "    <tr>\n",
       "      <th>max</th>\n",
       "      <td>1.000000</td>\n",
       "      <td>0.991000</td>\n",
       "      <td>1.000000</td>\n",
       "      <td>11.000000</td>\n",
       "      <td>4.584000</td>\n",
       "      <td>1.000000</td>\n",
       "      <td>0.971000</td>\n",
       "      <td>0.996000</td>\n",
       "      <td>1.000000</td>\n",
       "      <td>1.000000</td>\n",
       "      <td>1.000000</td>\n",
       "      <td>246.381000</td>\n",
       "      <td>5.000000</td>\n",
       "    </tr>\n",
       "  </tbody>\n",
       "</table>\n",
       "</div>"
      ],
      "text/plain": [
       "            explicit   danceability         energy            key  \\\n",
       "count  399435.000000  399435.000000  399435.000000  399435.000000   \n",
       "mean        0.049375       0.571208       0.568324       5.226663   \n",
       "std         0.216649       0.162858       0.241132       3.525346   \n",
       "min         0.000000       0.055900       0.000020       0.000000   \n",
       "25%         0.000000       0.463000       0.389000       2.000000   \n",
       "50%         0.000000       0.584000       0.580000       5.000000   \n",
       "75%         0.000000       0.690000       0.764000       8.000000   \n",
       "max         1.000000       0.991000       1.000000      11.000000   \n",
       "\n",
       "            loudness           mode    speechiness   acousticness  \\\n",
       "count  399435.000000  399435.000000  399435.000000  399435.000000   \n",
       "mean       -9.735599       0.654074       0.097682       0.405179   \n",
       "std         4.751867       0.475670       0.165444       0.328042   \n",
       "min       -54.837000       0.000000       0.021600       0.000000   \n",
       "25%       -12.282000       0.000000       0.033400       0.082450   \n",
       "50%        -8.852000       1.000000       0.043200       0.355000   \n",
       "75%        -6.279000       1.000000       0.073400       0.706000   \n",
       "max         4.584000       1.000000       0.971000       0.996000   \n",
       "\n",
       "       instrumentalness       liveness        valence          tempo  \\\n",
       "count     399435.000000  399435.000000  399435.000000  399435.000000   \n",
       "mean           0.083442       0.212073       0.559369     119.413251   \n",
       "std            0.229911       0.184909       0.254859      29.413099   \n",
       "min            0.000000       0.005720       0.000000      30.506000   \n",
       "25%            0.000000       0.096600       0.354000      96.480000   \n",
       "50%            0.000013       0.136000       0.570000     118.211000   \n",
       "75%            0.002920       0.275000       0.775000     137.455000   \n",
       "max            1.000000       1.000000       1.000000     246.381000   \n",
       "\n",
       "       time_signature  \n",
       "count   399435.000000  \n",
       "mean         3.916284  \n",
       "std          0.332145  \n",
       "min          3.000000  \n",
       "25%          4.000000  \n",
       "50%          4.000000  \n",
       "75%          4.000000  \n",
       "max          5.000000  "
      ]
     },
     "execution_count": 10,
     "metadata": {},
     "output_type": "execute_result"
    }
   ],
   "source": [
    "X = train_data[['explicit', 'danceability', 'energy', 'key', 'loudness', 'mode', 'speechiness', 'acousticness', 'instrumentalness', 'liveness', 'valence', 'tempo', 'time_signature']]\n",
    "X.describe()"
   ]
  },
  {
   "cell_type": "markdown",
   "metadata": {},
   "source": [
    "Let's use Seaborn capabilities to derive insights from feature correlation. The following plots show no significant correlation between features. Straight parallel lines belong to discrete/categorical features (integer values) that will be processed later on."
   ]
  },
  {
   "cell_type": "code",
   "execution_count": 11,
   "metadata": {},
   "outputs": [],
   "source": [
    "#sns.pairplot(X)"
   ]
  },
  {
   "cell_type": "code",
   "execution_count": 12,
   "metadata": {},
   "outputs": [],
   "source": [
    "y = train_data.popularity.values"
   ]
  },
  {
   "cell_type": "markdown",
   "metadata": {},
   "source": [
    "# Preprocessing"
   ]
  },
  {
   "cell_type": "markdown",
   "metadata": {},
   "source": [
    "Now let's cast the categorical columns type as 'category' and then use the sklearn selector() method to create a list of numerical columns and a list of categorical columns:"
   ]
  },
  {
   "cell_type": "code",
   "execution_count": 13,
   "metadata": {},
   "outputs": [
    {
     "name": "stderr",
     "output_type": "stream",
     "text": [
      "/Users/msf/anaconda3/lib/python3.8/site-packages/pandas/core/indexing.py:966: SettingWithCopyWarning: \n",
      "A value is trying to be set on a copy of a slice from a DataFrame.\n",
      "Try using .loc[row_indexer,col_indexer] = value instead\n",
      "\n",
      "See the caveats in the documentation: https://pandas.pydata.org/pandas-docs/stable/user_guide/indexing.html#returning-a-view-versus-a-copy\n",
      "  self.obj[item] = s\n"
     ]
    }
   ],
   "source": [
    "X.loc[:, ['explicit', 'key', 'mode', 'time_signature']] = X.loc[:, ['explicit', 'key', 'mode', 'time_signature']].astype('category')"
   ]
  },
  {
   "cell_type": "code",
   "execution_count": 14,
   "metadata": {},
   "outputs": [],
   "source": [
    "numerical_columns_selector = selector(dtype_exclude='category')\n",
    "categorical_columns_selector = selector(dtype_include='category')\n",
    "\n",
    "numerical_columns = numerical_columns_selector(X)\n",
    "categorical_columns = categorical_columns_selector(X)"
   ]
  },
  {
   "cell_type": "code",
   "execution_count": 15,
   "metadata": {},
   "outputs": [
    {
     "data": {
      "text/plain": [
       "['danceability',\n",
       " 'energy',\n",
       " 'loudness',\n",
       " 'speechiness',\n",
       " 'acousticness',\n",
       " 'instrumentalness',\n",
       " 'liveness',\n",
       " 'valence',\n",
       " 'tempo']"
      ]
     },
     "execution_count": 15,
     "metadata": {},
     "output_type": "execute_result"
    }
   ],
   "source": [
    "numerical_columns"
   ]
  },
  {
   "cell_type": "code",
   "execution_count": 16,
   "metadata": {},
   "outputs": [
    {
     "data": {
      "text/plain": [
       "['explicit', 'key', 'mode', 'time_signature']"
      ]
     },
     "execution_count": 16,
     "metadata": {},
     "output_type": "execute_result"
    }
   ],
   "source": [
    "categorical_columns"
   ]
  },
  {
   "cell_type": "code",
   "execution_count": 17,
   "metadata": {},
   "outputs": [
    {
     "data": {
      "text/plain": [
       "explicit            category\n",
       "danceability         float64\n",
       "energy               float64\n",
       "key                 category\n",
       "loudness             float64\n",
       "mode                category\n",
       "speechiness          float64\n",
       "acousticness         float64\n",
       "instrumentalness     float64\n",
       "liveness             float64\n",
       "valence              float64\n",
       "tempo                float64\n",
       "time_signature      category\n",
       "dtype: object"
      ]
     },
     "execution_count": 17,
     "metadata": {},
     "output_type": "execute_result"
    }
   ],
   "source": [
    "X.dtypes"
   ]
  },
  {
   "cell_type": "markdown",
   "metadata": {},
   "source": [
    "Now let's define the transformers (preprocessors) for our sklearn pipeline: OneHotEncoder() for categorical columns and StandardScaler() for numerical columns."
   ]
  },
  {
   "cell_type": "code",
   "execution_count": 18,
   "metadata": {},
   "outputs": [],
   "source": [
    "categorical_preprocessor = OneHotEncoder(handle_unknown=\"ignore\")\n",
    "numerical_preprocessor = MinMaxScaler()"
   ]
  },
  {
   "cell_type": "markdown",
   "metadata": {},
   "source": [
    "The ColumnTransformer splits the columns of the original dataset based on column names, transforms each subset  by calling the predefined fit_transform and finally concatenates the transformed datasets into a single dataset for training. The same steps will be applied when calling the predict() method."
   ]
  },
  {
   "cell_type": "code",
   "execution_count": 19,
   "metadata": {},
   "outputs": [],
   "source": [
    "preprocessor = ColumnTransformer([\n",
    "    ('One-Hot-Encoder', categorical_preprocessor, categorical_columns),\n",
    "    ('MinMaxScaler', numerical_preprocessor, numerical_columns)])"
   ]
  },
  {
   "cell_type": "markdown",
   "metadata": {},
   "source": [
    "Let's define our model (default number of iteration for training = 1000 epochs) and let's visualize our pipeline architecture:"
   ]
  },
  {
   "cell_type": "code",
   "execution_count": 20,
   "metadata": {},
   "outputs": [
    {
     "data": {
      "text/html": [
       "<style>div.sk-top-container {color: black;background-color: white;}div.sk-toggleable {background-color: white;}label.sk-toggleable__label {cursor: pointer;display: block;width: 100%;margin-bottom: 0;padding: 0.2em 0.3em;box-sizing: border-box;text-align: center;}div.sk-toggleable__content {max-height: 0;max-width: 0;overflow: hidden;text-align: left;background-color: #f0f8ff;}div.sk-toggleable__content pre {margin: 0.2em;color: black;border-radius: 0.25em;background-color: #f0f8ff;}input.sk-toggleable__control:checked~div.sk-toggleable__content {max-height: 200px;max-width: 100%;overflow: auto;}div.sk-estimator input.sk-toggleable__control:checked~label.sk-toggleable__label {background-color: #d4ebff;}div.sk-label input.sk-toggleable__control:checked~label.sk-toggleable__label {background-color: #d4ebff;}input.sk-hidden--visually {border: 0;clip: rect(1px 1px 1px 1px);clip: rect(1px, 1px, 1px, 1px);height: 1px;margin: -1px;overflow: hidden;padding: 0;position: absolute;width: 1px;}div.sk-estimator {font-family: monospace;background-color: #f0f8ff;margin: 0.25em 0.25em;border: 1px dotted black;border-radius: 0.25em;box-sizing: border-box;}div.sk-estimator:hover {background-color: #d4ebff;}div.sk-parallel-item::after {content: \"\";width: 100%;border-bottom: 1px solid gray;flex-grow: 1;}div.sk-label:hover label.sk-toggleable__label {background-color: #d4ebff;}div.sk-serial::before {content: \"\";position: absolute;border-left: 1px solid gray;box-sizing: border-box;top: 2em;bottom: 0;left: 50%;}div.sk-serial {display: flex;flex-direction: column;align-items: center;background-color: white;}div.sk-item {z-index: 1;}div.sk-parallel {display: flex;align-items: stretch;justify-content: center;background-color: white;}div.sk-parallel-item {display: flex;flex-direction: column;position: relative;background-color: white;}div.sk-parallel-item:first-child::after {align-self: flex-end;width: 50%;}div.sk-parallel-item:last-child::after {align-self: flex-start;width: 50%;}div.sk-parallel-item:only-child::after {width: 0;}div.sk-dashed-wrapped {border: 1px dashed gray;margin: 0.2em;box-sizing: border-box;padding-bottom: 0.1em;background-color: white;position: relative;}div.sk-label label {font-family: monospace;font-weight: bold;background-color: white;display: inline-block;line-height: 1.2em;}div.sk-label-container {position: relative;z-index: 2;text-align: center;}div.sk-container {display: inline-block;position: relative;}</style><div class=\"sk-top-container\"><div class=\"sk-container\"><div class=\"sk-item sk-dashed-wrapped\"><div class=\"sk-label-container\"><div class=\"sk-label sk-toggleable\"><input class=\"sk-toggleable__control sk-hidden--visually\" id=\"96a3b919-6dda-4c0b-a459-4ec839410a22\" type=\"checkbox\" ><label class=\"sk-toggleable__label\" for=\"96a3b919-6dda-4c0b-a459-4ec839410a22\">Pipeline</label><div class=\"sk-toggleable__content\"><pre>Pipeline(steps=[('columntransformer',\n",
       "                 ColumnTransformer(transformers=[('One-Hot-Encoder',\n",
       "                                                  OneHotEncoder(handle_unknown='ignore'),\n",
       "                                                  ['explicit', 'key', 'mode',\n",
       "                                                   'time_signature']),\n",
       "                                                 ('MinMaxScaler',\n",
       "                                                  MinMaxScaler(),\n",
       "                                                  ['danceability', 'energy',\n",
       "                                                   'loudness', 'speechiness',\n",
       "                                                   'acousticness',\n",
       "                                                   'instrumentalness',\n",
       "                                                   'liveness', 'valence',\n",
       "                                                   'tempo'])])),\n",
       "                ('linearregression', LinearRegression())])</pre></div></div></div><div class=\"sk-serial\"><div class=\"sk-item sk-dashed-wrapped\"><div class=\"sk-label-container\"><div class=\"sk-label sk-toggleable\"><input class=\"sk-toggleable__control sk-hidden--visually\" id=\"d18b2406-2587-42d3-ac1a-ce67f59a59ff\" type=\"checkbox\" ><label class=\"sk-toggleable__label\" for=\"d18b2406-2587-42d3-ac1a-ce67f59a59ff\">columntransformer: ColumnTransformer</label><div class=\"sk-toggleable__content\"><pre>ColumnTransformer(transformers=[('One-Hot-Encoder',\n",
       "                                 OneHotEncoder(handle_unknown='ignore'),\n",
       "                                 ['explicit', 'key', 'mode', 'time_signature']),\n",
       "                                ('MinMaxScaler', MinMaxScaler(),\n",
       "                                 ['danceability', 'energy', 'loudness',\n",
       "                                  'speechiness', 'acousticness',\n",
       "                                  'instrumentalness', 'liveness', 'valence',\n",
       "                                  'tempo'])])</pre></div></div></div><div class=\"sk-parallel\"><div class=\"sk-parallel-item\"><div class=\"sk-item\"><div class=\"sk-label-container\"><div class=\"sk-label sk-toggleable\"><input class=\"sk-toggleable__control sk-hidden--visually\" id=\"7e02a146-cb04-4247-9e3b-f120c94b2c8c\" type=\"checkbox\" ><label class=\"sk-toggleable__label\" for=\"7e02a146-cb04-4247-9e3b-f120c94b2c8c\">One-Hot-Encoder</label><div class=\"sk-toggleable__content\"><pre>['explicit', 'key', 'mode', 'time_signature']</pre></div></div></div><div class=\"sk-serial\"><div class=\"sk-item\"><div class=\"sk-estimator sk-toggleable\"><input class=\"sk-toggleable__control sk-hidden--visually\" id=\"8763db80-1f9f-4c32-9945-bf0620834cfc\" type=\"checkbox\" ><label class=\"sk-toggleable__label\" for=\"8763db80-1f9f-4c32-9945-bf0620834cfc\">OneHotEncoder</label><div class=\"sk-toggleable__content\"><pre>OneHotEncoder(handle_unknown='ignore')</pre></div></div></div></div></div></div><div class=\"sk-parallel-item\"><div class=\"sk-item\"><div class=\"sk-label-container\"><div class=\"sk-label sk-toggleable\"><input class=\"sk-toggleable__control sk-hidden--visually\" id=\"4521f876-6647-4735-8a98-69c913a302d7\" type=\"checkbox\" ><label class=\"sk-toggleable__label\" for=\"4521f876-6647-4735-8a98-69c913a302d7\">MinMaxScaler</label><div class=\"sk-toggleable__content\"><pre>['danceability', 'energy', 'loudness', 'speechiness', 'acousticness', 'instrumentalness', 'liveness', 'valence', 'tempo']</pre></div></div></div><div class=\"sk-serial\"><div class=\"sk-item\"><div class=\"sk-estimator sk-toggleable\"><input class=\"sk-toggleable__control sk-hidden--visually\" id=\"aac4e50e-5478-488b-b493-2d51d14ee076\" type=\"checkbox\" ><label class=\"sk-toggleable__label\" for=\"aac4e50e-5478-488b-b493-2d51d14ee076\">MinMaxScaler</label><div class=\"sk-toggleable__content\"><pre>MinMaxScaler()</pre></div></div></div></div></div></div></div></div><div class=\"sk-item\"><div class=\"sk-estimator sk-toggleable\"><input class=\"sk-toggleable__control sk-hidden--visually\" id=\"2e47351a-42d1-4d6b-82e7-91517b75064e\" type=\"checkbox\" ><label class=\"sk-toggleable__label\" for=\"2e47351a-42d1-4d6b-82e7-91517b75064e\">LinearRegression</label><div class=\"sk-toggleable__content\"><pre>LinearRegression()</pre></div></div></div></div></div></div></div>"
      ],
      "text/plain": [
       "Pipeline(steps=[('columntransformer',\n",
       "                 ColumnTransformer(transformers=[('One-Hot-Encoder',\n",
       "                                                  OneHotEncoder(handle_unknown='ignore'),\n",
       "                                                  ['explicit', 'key', 'mode',\n",
       "                                                   'time_signature']),\n",
       "                                                 ('MinMaxScaler',\n",
       "                                                  MinMaxScaler(),\n",
       "                                                  ['danceability', 'energy',\n",
       "                                                   'loudness', 'speechiness',\n",
       "                                                   'acousticness',\n",
       "                                                   'instrumentalness',\n",
       "                                                   'liveness', 'valence',\n",
       "                                                   'tempo'])])),\n",
       "                ('linearregression', LinearRegression())])"
      ]
     },
     "execution_count": 20,
     "metadata": {},
     "output_type": "execute_result"
    }
   ],
   "source": [
    "linreg_model = make_pipeline(preprocessor, LinearRegression())\n",
    "set_config(display='diagram')\n",
    "linreg_model"
   ]
  },
  {
   "cell_type": "markdown",
   "metadata": {},
   "source": [
    "Let's split the data into train and validation sets with a 80/20 ratio:"
   ]
  },
  {
   "cell_type": "code",
   "execution_count": 21,
   "metadata": {},
   "outputs": [],
   "source": [
    "train_set, val_set, train_target, val_target = train_test_split(X, y, test_size=0.2, random_state=42)"
   ]
  },
  {
   "cell_type": "markdown",
   "metadata": {},
   "source": [
    "# Training & prediction analysis"
   ]
  },
  {
   "cell_type": "code",
   "execution_count": 22,
   "metadata": {},
   "outputs": [],
   "source": [
    "_ = linreg_model.fit(train_set, train_target)"
   ]
  },
  {
   "cell_type": "markdown",
   "metadata": {},
   "source": [
    "Making predictions on the train set and the validation set, and getting to know our prediction distribution for the validation set:"
   ]
  },
  {
   "cell_type": "code",
   "execution_count": 23,
   "metadata": {},
   "outputs": [],
   "source": [
    "train_pred = linreg_model.predict(train_set)\n",
    "val_pred = linreg_model.predict(val_set)"
   ]
  },
  {
   "cell_type": "code",
   "execution_count": 24,
   "metadata": {},
   "outputs": [
    {
     "data": {
      "text/plain": [
       "<AxesSubplot:ylabel='Frequency'>"
      ]
     },
     "execution_count": 24,
     "metadata": {},
     "output_type": "execute_result"
    },
    {
     "data": {
      "image/png": "[encoded data removed]",
      "text/plain": [
       "<Figure size 576x396 with 1 Axes>"
      ]
     },
     "metadata": {},
     "output_type": "display_data"
    }
   ],
   "source": [
    "predictions = pd.DataFrame(val_pred, columns=['predictions'])\n",
    "predictions.plot.hist(bins=100)"
   ]
  },
  {
   "cell_type": "code",
   "execution_count": 25,
   "metadata": {},
   "outputs": [
    {
     "data": {
      "text/html": [
       "<div>\n",
       "<style scoped>\n",
       "    .dataframe tbody tr th:only-of-type {\n",
       "        vertical-align: middle;\n",
       "    }\n",
       "\n",
       "    .dataframe tbody tr th {\n",
       "        vertical-align: top;\n",
       "    }\n",
       "\n",
       "    .dataframe thead th {\n",
       "        text-align: right;\n",
       "    }\n",
       "</style>\n",
       "<table border=\"1\" class=\"dataframe\">\n",
       "  <thead>\n",
       "    <tr style=\"text-align: right;\">\n",
       "      <th></th>\n",
       "      <th>predictions</th>\n",
       "    </tr>\n",
       "  </thead>\n",
       "  <tbody>\n",
       "    <tr>\n",
       "      <th>count</th>\n",
       "      <td>79887.000000</td>\n",
       "    </tr>\n",
       "    <tr>\n",
       "      <th>mean</th>\n",
       "      <td>31.949558</td>\n",
       "    </tr>\n",
       "    <tr>\n",
       "      <th>std</th>\n",
       "      <td>6.777076</td>\n",
       "    </tr>\n",
       "    <tr>\n",
       "      <th>min</th>\n",
       "      <td>-0.593750</td>\n",
       "    </tr>\n",
       "    <tr>\n",
       "      <th>25%</th>\n",
       "      <td>27.609375</td>\n",
       "    </tr>\n",
       "    <tr>\n",
       "      <th>50%</th>\n",
       "      <td>31.859375</td>\n",
       "    </tr>\n",
       "    <tr>\n",
       "      <th>75%</th>\n",
       "      <td>35.968750</td>\n",
       "    </tr>\n",
       "    <tr>\n",
       "      <th>max</th>\n",
       "      <td>61.898438</td>\n",
       "    </tr>\n",
       "  </tbody>\n",
       "</table>\n",
       "</div>"
      ],
      "text/plain": [
       "        predictions\n",
       "count  79887.000000\n",
       "mean      31.949558\n",
       "std        6.777076\n",
       "min       -0.593750\n",
       "25%       27.609375\n",
       "50%       31.859375\n",
       "75%       35.968750\n",
       "max       61.898438"
      ]
     },
     "execution_count": 25,
     "metadata": {},
     "output_type": "execute_result"
    }
   ],
   "source": [
    "predictions.describe()"
   ]
  },
  {
   "cell_type": "markdown",
   "metadata": {},
   "source": [
    "Performance metrics for training and test sets: the MAE metric is quite similar for both sets."
   ]
  },
  {
   "cell_type": "code",
   "execution_count": 26,
   "metadata": {},
   "outputs": [
    {
     "data": {
      "text/plain": [
       "11.833672019735689"
      ]
     },
     "execution_count": 26,
     "metadata": {},
     "output_type": "execute_result"
    }
   ],
   "source": [
    "mean_absolute_error(train_target, train_pred)"
   ]
  },
  {
   "cell_type": "code",
   "execution_count": 27,
   "metadata": {},
   "outputs": [
    {
     "data": {
      "text/plain": [
       "11.796702979677544"
      ]
     },
     "execution_count": 27,
     "metadata": {},
     "output_type": "execute_result"
    }
   ],
   "source": [
    "mean_absolute_error(val_target, val_pred)"
   ]
  },
  {
   "cell_type": "markdown",
   "metadata": {},
   "source": [
    "Let's plot residuals and observe their Gaussian distributions centered around 0, meaning that a larger portion of predictions are accurate. As expected for the validation set, the distribution is more spread out. We can see some negative predicted values due to linear regression extrapolation."
   ]
  },
  {
   "cell_type": "code",
   "execution_count": 28,
   "metadata": {},
   "outputs": [
    {
     "data": {
      "image/png": "[encoded data removed]",
      "text/plain": [
       "<Figure size 576x396 with 2 Axes>"
      ]
     },
     "metadata": {},
     "output_type": "display_data"
    },
    {
     "data": {
      "text/plain": [
       "<AxesSubplot:title={'center':'Residuals for LinearRegression Model'}, xlabel='Predicted Value', ylabel='Residuals'>"
      ]
     },
     "execution_count": 28,
     "metadata": {},
     "output_type": "execute_result"
    }
   ],
   "source": [
    "visualizer = ResidualsPlot(linreg_model, hist=True, qqplot=False)\n",
    "visualizer.fit(train_set, train_target)\n",
    "visualizer.score(val_set, val_target)\n",
    "visualizer.show()"
   ]
  },
  {
   "cell_type": "markdown",
   "metadata": {},
   "source": [
    "Now let's visualize the predictions error and the R-squared metric. The latter is a ratio between the variance explained by the model and the total variance, e.g approximately 17% of the data can be explained by the model. Our data still contains a significant amount fo randomness. In addition, comparing the fitted line and the identity line shows that higher values of popularity (y) have lower prediction scores (y hat), e.g our model has a hard time predicting hits. This makes sense as the training data contains much fewer hit songs (see df['popularity'] distribution above)."
   ]
  },
  {
   "cell_type": "code",
   "execution_count": 29,
   "metadata": {},
   "outputs": [
    {
     "data": {
      "image/png": "[encoded data removed]",
      "text/plain": [
       "<Figure size 576x396 with 1 Axes>"
      ]
     },
     "metadata": {},
     "output_type": "display_data"
    },
    {
     "data": {
      "text/plain": [
       "<AxesSubplot:title={'center':'Prediction Error for LinearRegression'}, xlabel='$y$', ylabel='$\\\\hat{y}$'>"
      ]
     },
     "execution_count": 29,
     "metadata": {},
     "output_type": "execute_result"
    }
   ],
   "source": [
    "visualizer = PredictionError(linreg_model)\n",
    "visualizer.fit(train_set, train_target)\n",
    "visualizer.score(val_set, val_target)\n",
    "visualizer.show()"
   ]
  },
  {
   "cell_type": "markdown",
   "metadata": {},
   "source": [
    "Let's have a look at the absolute error in further detail. Mean is approx. 12 and standard deviation is approx. 8."
   ]
  },
  {
   "cell_type": "code",
   "execution_count": 30,
   "metadata": {},
   "outputs": [
    {
     "data": {
      "text/plain": [
       "<AxesSubplot:ylabel='Frequency'>"
      ]
     },
     "execution_count": 30,
     "metadata": {},
     "output_type": "execute_result"
    },
    {
     "data": {
      "image/png": "[encoded data removed]",
      "text/plain": [
       "<Figure size 576x396 with 1 Axes>"
      ]
     },
     "metadata": {},
     "output_type": "display_data"
    }
   ],
   "source": [
    "err = abs(val_target - val_pred)\n",
    "error = pd.DataFrame(err, columns = ['error'])\n",
    "error.plot.hist(bins=100)"
   ]
  },
  {
   "cell_type": "code",
   "execution_count": 31,
   "metadata": {},
   "outputs": [
    {
     "data": {
      "text/html": [
       "<div>\n",
       "<style scoped>\n",
       "    .dataframe tbody tr th:only-of-type {\n",
       "        vertical-align: middle;\n",
       "    }\n",
       "\n",
       "    .dataframe tbody tr th {\n",
       "        vertical-align: top;\n",
       "    }\n",
       "\n",
       "    .dataframe thead th {\n",
       "        text-align: right;\n",
       "    }\n",
       "</style>\n",
       "<table border=\"1\" class=\"dataframe\">\n",
       "  <thead>\n",
       "    <tr style=\"text-align: right;\">\n",
       "      <th></th>\n",
       "      <th>error</th>\n",
       "    </tr>\n",
       "  </thead>\n",
       "  <tbody>\n",
       "    <tr>\n",
       "      <th>count</th>\n",
       "      <td>79887.000000</td>\n",
       "    </tr>\n",
       "    <tr>\n",
       "      <th>mean</th>\n",
       "      <td>11.796703</td>\n",
       "    </tr>\n",
       "    <tr>\n",
       "      <th>std</th>\n",
       "      <td>8.573268</td>\n",
       "    </tr>\n",
       "    <tr>\n",
       "      <th>min</th>\n",
       "      <td>0.000000</td>\n",
       "    </tr>\n",
       "    <tr>\n",
       "      <th>25%</th>\n",
       "      <td>4.906250</td>\n",
       "    </tr>\n",
       "    <tr>\n",
       "      <th>50%</th>\n",
       "      <td>10.281250</td>\n",
       "    </tr>\n",
       "    <tr>\n",
       "      <th>75%</th>\n",
       "      <td>17.046875</td>\n",
       "    </tr>\n",
       "    <tr>\n",
       "      <th>max</th>\n",
       "      <td>62.375000</td>\n",
       "    </tr>\n",
       "  </tbody>\n",
       "</table>\n",
       "</div>"
      ],
      "text/plain": [
       "              error\n",
       "count  79887.000000\n",
       "mean      11.796703\n",
       "std        8.573268\n",
       "min        0.000000\n",
       "25%        4.906250\n",
       "50%       10.281250\n",
       "75%       17.046875\n",
       "max       62.375000"
      ]
     },
     "execution_count": 31,
     "metadata": {},
     "output_type": "execute_result"
    }
   ],
   "source": [
    "error.describe()"
   ]
  },
  {
   "cell_type": "markdown",
   "metadata": {},
   "source": [
    "# Let's train a DecisionTreeRegressor"
   ]
  },
  {
   "cell_type": "markdown",
   "metadata": {},
   "source": [
    "Let's try and train a different type of model."
   ]
  },
  {
   "cell_type": "code",
   "execution_count": 32,
   "metadata": {},
   "outputs": [
    {
     "data": {
      "text/html": [
       "<style>div.sk-top-container {color: black;background-color: white;}div.sk-toggleable {background-color: white;}label.sk-toggleable__label {cursor: pointer;display: block;width: 100%;margin-bottom: 0;padding: 0.2em 0.3em;box-sizing: border-box;text-align: center;}div.sk-toggleable__content {max-height: 0;max-width: 0;overflow: hidden;text-align: left;background-color: #f0f8ff;}div.sk-toggleable__content pre {margin: 0.2em;color: black;border-radius: 0.25em;background-color: #f0f8ff;}input.sk-toggleable__control:checked~div.sk-toggleable__content {max-height: 200px;max-width: 100%;overflow: auto;}div.sk-estimator input.sk-toggleable__control:checked~label.sk-toggleable__label {background-color: #d4ebff;}div.sk-label input.sk-toggleable__control:checked~label.sk-toggleable__label {background-color: #d4ebff;}input.sk-hidden--visually {border: 0;clip: rect(1px 1px 1px 1px);clip: rect(1px, 1px, 1px, 1px);height: 1px;margin: -1px;overflow: hidden;padding: 0;position: absolute;width: 1px;}div.sk-estimator {font-family: monospace;background-color: #f0f8ff;margin: 0.25em 0.25em;border: 1px dotted black;border-radius: 0.25em;box-sizing: border-box;}div.sk-estimator:hover {background-color: #d4ebff;}div.sk-parallel-item::after {content: \"\";width: 100%;border-bottom: 1px solid gray;flex-grow: 1;}div.sk-label:hover label.sk-toggleable__label {background-color: #d4ebff;}div.sk-serial::before {content: \"\";position: absolute;border-left: 1px solid gray;box-sizing: border-box;top: 2em;bottom: 0;left: 50%;}div.sk-serial {display: flex;flex-direction: column;align-items: center;background-color: white;}div.sk-item {z-index: 1;}div.sk-parallel {display: flex;align-items: stretch;justify-content: center;background-color: white;}div.sk-parallel-item {display: flex;flex-direction: column;position: relative;background-color: white;}div.sk-parallel-item:first-child::after {align-self: flex-end;width: 50%;}div.sk-parallel-item:last-child::after {align-self: flex-start;width: 50%;}div.sk-parallel-item:only-child::after {width: 0;}div.sk-dashed-wrapped {border: 1px dashed gray;margin: 0.2em;box-sizing: border-box;padding-bottom: 0.1em;background-color: white;position: relative;}div.sk-label label {font-family: monospace;font-weight: bold;background-color: white;display: inline-block;line-height: 1.2em;}div.sk-label-container {position: relative;z-index: 2;text-align: center;}div.sk-container {display: inline-block;position: relative;}</style><div class=\"sk-top-container\"><div class=\"sk-container\"><div class=\"sk-item sk-dashed-wrapped\"><div class=\"sk-label-container\"><div class=\"sk-label sk-toggleable\"><input class=\"sk-toggleable__control sk-hidden--visually\" id=\"f2136454-7b0c-491b-bc35-0f302eb91eab\" type=\"checkbox\" ><label class=\"sk-toggleable__label\" for=\"f2136454-7b0c-491b-bc35-0f302eb91eab\">Pipeline</label><div class=\"sk-toggleable__content\"><pre>Pipeline(steps=[('columntransformer',\n",
       "                 ColumnTransformer(transformers=[('One-Hot-Encoder',\n",
       "                                                  OneHotEncoder(handle_unknown='ignore'),\n",
       "                                                  ['explicit', 'key', 'mode',\n",
       "                                                   'time_signature']),\n",
       "                                                 ('MinMaxScaler',\n",
       "                                                  MinMaxScaler(),\n",
       "                                                  ['danceability', 'energy',\n",
       "                                                   'loudness', 'speechiness',\n",
       "                                                   'acousticness',\n",
       "                                                   'instrumentalness',\n",
       "                                                   'liveness', 'valence',\n",
       "                                                   'tempo'])])),\n",
       "                ('decisiontreeregressor', DecisionTreeRegressor())])</pre></div></div></div><div class=\"sk-serial\"><div class=\"sk-item sk-dashed-wrapped\"><div class=\"sk-label-container\"><div class=\"sk-label sk-toggleable\"><input class=\"sk-toggleable__control sk-hidden--visually\" id=\"27394f62-cde3-4d24-be38-51529d2156e1\" type=\"checkbox\" ><label class=\"sk-toggleable__label\" for=\"27394f62-cde3-4d24-be38-51529d2156e1\">columntransformer: ColumnTransformer</label><div class=\"sk-toggleable__content\"><pre>ColumnTransformer(transformers=[('One-Hot-Encoder',\n",
       "                                 OneHotEncoder(handle_unknown='ignore'),\n",
       "                                 ['explicit', 'key', 'mode', 'time_signature']),\n",
       "                                ('MinMaxScaler', MinMaxScaler(),\n",
       "                                 ['danceability', 'energy', 'loudness',\n",
       "                                  'speechiness', 'acousticness',\n",
       "                                  'instrumentalness', 'liveness', 'valence',\n",
       "                                  'tempo'])])</pre></div></div></div><div class=\"sk-parallel\"><div class=\"sk-parallel-item\"><div class=\"sk-item\"><div class=\"sk-label-container\"><div class=\"sk-label sk-toggleable\"><input class=\"sk-toggleable__control sk-hidden--visually\" id=\"562d3b53-b8bc-45ad-8b88-c19bae88a8fb\" type=\"checkbox\" ><label class=\"sk-toggleable__label\" for=\"562d3b53-b8bc-45ad-8b88-c19bae88a8fb\">One-Hot-Encoder</label><div class=\"sk-toggleable__content\"><pre>['explicit', 'key', 'mode', 'time_signature']</pre></div></div></div><div class=\"sk-serial\"><div class=\"sk-item\"><div class=\"sk-estimator sk-toggleable\"><input class=\"sk-toggleable__control sk-hidden--visually\" id=\"36279bac-39ec-4ff7-b116-fd891895d20a\" type=\"checkbox\" ><label class=\"sk-toggleable__label\" for=\"36279bac-39ec-4ff7-b116-fd891895d20a\">OneHotEncoder</label><div class=\"sk-toggleable__content\"><pre>OneHotEncoder(handle_unknown='ignore')</pre></div></div></div></div></div></div><div class=\"sk-parallel-item\"><div class=\"sk-item\"><div class=\"sk-label-container\"><div class=\"sk-label sk-toggleable\"><input class=\"sk-toggleable__control sk-hidden--visually\" id=\"fa3accf3-5bc9-4863-90be-4ced9f464f21\" type=\"checkbox\" ><label class=\"sk-toggleable__label\" for=\"fa3accf3-5bc9-4863-90be-4ced9f464f21\">MinMaxScaler</label><div class=\"sk-toggleable__content\"><pre>['danceability', 'energy', 'loudness', 'speechiness', 'acousticness', 'instrumentalness', 'liveness', 'valence', 'tempo']</pre></div></div></div><div class=\"sk-serial\"><div class=\"sk-item\"><div class=\"sk-estimator sk-toggleable\"><input class=\"sk-toggleable__control sk-hidden--visually\" id=\"9f44977a-7668-4a18-b835-2a4ae94b6314\" type=\"checkbox\" ><label class=\"sk-toggleable__label\" for=\"9f44977a-7668-4a18-b835-2a4ae94b6314\">MinMaxScaler</label><div class=\"sk-toggleable__content\"><pre>MinMaxScaler()</pre></div></div></div></div></div></div></div></div><div class=\"sk-item\"><div class=\"sk-estimator sk-toggleable\"><input class=\"sk-toggleable__control sk-hidden--visually\" id=\"35d18f56-e798-4cbc-841c-db16120dfc06\" type=\"checkbox\" ><label class=\"sk-toggleable__label\" for=\"35d18f56-e798-4cbc-841c-db16120dfc06\">DecisionTreeRegressor</label><div class=\"sk-toggleable__content\"><pre>DecisionTreeRegressor()</pre></div></div></div></div></div></div></div>"
      ],
      "text/plain": [
       "Pipeline(steps=[('columntransformer',\n",
       "                 ColumnTransformer(transformers=[('One-Hot-Encoder',\n",
       "                                                  OneHotEncoder(handle_unknown='ignore'),\n",
       "                                                  ['explicit', 'key', 'mode',\n",
       "                                                   'time_signature']),\n",
       "                                                 ('MinMaxScaler',\n",
       "                                                  MinMaxScaler(),\n",
       "                                                  ['danceability', 'energy',\n",
       "                                                   'loudness', 'speechiness',\n",
       "                                                   'acousticness',\n",
       "                                                   'instrumentalness',\n",
       "                                                   'liveness', 'valence',\n",
       "                                                   'tempo'])])),\n",
       "                ('decisiontreeregressor', DecisionTreeRegressor())])"
      ]
     },
     "execution_count": 32,
     "metadata": {},
     "output_type": "execute_result"
    }
   ],
   "source": [
    "from sklearn.tree import DecisionTreeRegressor\n",
    "\n",
    "\n",
    "tree_model = make_pipeline(preprocessor, DecisionTreeRegressor())\n",
    "set_config(display='diagram')\n",
    "tree_model"
   ]
  },
  {
   "cell_type": "code",
   "execution_count": 33,
   "metadata": {},
   "outputs": [
    {
     "data": {
      "text/plain": [
       "0.23229619711749988"
      ]
     },
     "execution_count": 33,
     "metadata": {},
     "output_type": "execute_result"
    }
   ],
   "source": [
    "tree_model.fit(train_set, train_target)\n",
    "tree_pred = tree_model.predict(train_set)\n",
    "tree_mae = mean_absolute_error(train_target, tree_pred)\n",
    "tree_mae"
   ]
  },
  {
   "cell_type": "markdown",
   "metadata": {},
   "source": [
    "The DecisionTree is most likely overfitting as it fits the training data almost perfectly! Let's evaluate its performance with cross-validation scores."
   ]
  },
  {
   "cell_type": "code",
   "execution_count": 34,
   "metadata": {},
   "outputs": [],
   "source": [
    "from sklearn.model_selection import cross_val_score\n",
    "\n",
    "tree_scores = cross_val_score(tree_model, train_set, train_target, scoring='neg_mean_absolute_error', cv=10)"
   ]
  },
  {
   "cell_type": "code",
   "execution_count": 35,
   "metadata": {},
   "outputs": [
    {
     "name": "stdout",
     "output_type": "stream",
     "text": [
      "Scores:  [-15.54554845 -15.45559302 -15.60035153 -15.59612488 -15.37257418\n",
      " -15.44419469 -15.40914839 -15.47744901 -15.54588193 -15.36279447]\n",
      "Mean:  -15.480966056156594\n",
      "Standard deviation:  0.08293298349128696\n"
     ]
    }
   ],
   "source": [
    "print(\"Scores: \", tree_scores)\n",
    "print(\"Mean: \", tree_scores.mean())\n",
    "print(\"Standard deviation: \", tree_scores.std())"
   ]
  },
  {
   "cell_type": "markdown",
   "metadata": {},
   "source": [
    "Overfitting confirmed, and the DecisionTree performs even lower than the LinearRegression on validation sets:"
   ]
  },
  {
   "cell_type": "code",
   "execution_count": 36,
   "metadata": {},
   "outputs": [],
   "source": [
    "linreg_scores = cross_val_score(linreg_model, train_set, train_target, scoring='neg_mean_absolute_error', cv=10)"
   ]
  },
  {
   "cell_type": "code",
   "execution_count": 37,
   "metadata": {},
   "outputs": [
    {
     "name": "stdout",
     "output_type": "stream",
     "text": [
      "Scores:  [-11.83973557 -11.81843559 -11.85944859 -11.85179806 -11.7922716\n",
      " -11.81965508 -11.90232798 -11.81827105 -11.82530356 -11.81989992]\n",
      "Mean:  -11.834714700996653\n",
      "Standard deviation:  0.028934460433450226\n"
     ]
    }
   ],
   "source": [
    "print(\"Scores: \", linreg_scores)\n",
    "print(\"Mean: \", linreg_scores.mean())\n",
    "print(\"Standard deviation: \", linreg_scores.std())"
   ]
  },
  {
   "cell_type": "markdown",
   "metadata": {},
   "source": [
    "# Let's train a RandomForestRegressor"
   ]
  },
  {
   "cell_type": "markdown",
   "metadata": {},
   "source": [
    "Next attempt with Ensemble techniques: a RandomForestRegressor model."
   ]
  },
  {
   "cell_type": "code",
   "execution_count": 38,
   "metadata": {},
   "outputs": [
    {
     "data": {
      "text/html": [
       "<style>div.sk-top-container {color: black;background-color: white;}div.sk-toggleable {background-color: white;}label.sk-toggleable__label {cursor: pointer;display: block;width: 100%;margin-bottom: 0;padding: 0.2em 0.3em;box-sizing: border-box;text-align: center;}div.sk-toggleable__content {max-height: 0;max-width: 0;overflow: hidden;text-align: left;background-color: #f0f8ff;}div.sk-toggleable__content pre {margin: 0.2em;color: black;border-radius: 0.25em;background-color: #f0f8ff;}input.sk-toggleable__control:checked~div.sk-toggleable__content {max-height: 200px;max-width: 100%;overflow: auto;}div.sk-estimator input.sk-toggleable__control:checked~label.sk-toggleable__label {background-color: #d4ebff;}div.sk-label input.sk-toggleable__control:checked~label.sk-toggleable__label {background-color: #d4ebff;}input.sk-hidden--visually {border: 0;clip: rect(1px 1px 1px 1px);clip: rect(1px, 1px, 1px, 1px);height: 1px;margin: -1px;overflow: hidden;padding: 0;position: absolute;width: 1px;}div.sk-estimator {font-family: monospace;background-color: #f0f8ff;margin: 0.25em 0.25em;border: 1px dotted black;border-radius: 0.25em;box-sizing: border-box;}div.sk-estimator:hover {background-color: #d4ebff;}div.sk-parallel-item::after {content: \"\";width: 100%;border-bottom: 1px solid gray;flex-grow: 1;}div.sk-label:hover label.sk-toggleable__label {background-color: #d4ebff;}div.sk-serial::before {content: \"\";position: absolute;border-left: 1px solid gray;box-sizing: border-box;top: 2em;bottom: 0;left: 50%;}div.sk-serial {display: flex;flex-direction: column;align-items: center;background-color: white;}div.sk-item {z-index: 1;}div.sk-parallel {display: flex;align-items: stretch;justify-content: center;background-color: white;}div.sk-parallel-item {display: flex;flex-direction: column;position: relative;background-color: white;}div.sk-parallel-item:first-child::after {align-self: flex-end;width: 50%;}div.sk-parallel-item:last-child::after {align-self: flex-start;width: 50%;}div.sk-parallel-item:only-child::after {width: 0;}div.sk-dashed-wrapped {border: 1px dashed gray;margin: 0.2em;box-sizing: border-box;padding-bottom: 0.1em;background-color: white;position: relative;}div.sk-label label {font-family: monospace;font-weight: bold;background-color: white;display: inline-block;line-height: 1.2em;}div.sk-label-container {position: relative;z-index: 2;text-align: center;}div.sk-container {display: inline-block;position: relative;}</style><div class=\"sk-top-container\"><div class=\"sk-container\"><div class=\"sk-item sk-dashed-wrapped\"><div class=\"sk-label-container\"><div class=\"sk-label sk-toggleable\"><input class=\"sk-toggleable__control sk-hidden--visually\" id=\"c549ea07-ead6-412a-a853-3ce2e8d869f5\" type=\"checkbox\" ><label class=\"sk-toggleable__label\" for=\"c549ea07-ead6-412a-a853-3ce2e8d869f5\">Pipeline</label><div class=\"sk-toggleable__content\"><pre>Pipeline(steps=[('columntransformer',\n",
       "                 ColumnTransformer(transformers=[('One-Hot-Encoder',\n",
       "                                                  OneHotEncoder(handle_unknown='ignore'),\n",
       "                                                  ['explicit', 'key', 'mode',\n",
       "                                                   'time_signature']),\n",
       "                                                 ('MinMaxScaler',\n",
       "                                                  MinMaxScaler(),\n",
       "                                                  ['danceability', 'energy',\n",
       "                                                   'loudness', 'speechiness',\n",
       "                                                   'acousticness',\n",
       "                                                   'instrumentalness',\n",
       "                                                   'liveness', 'valence',\n",
       "                                                   'tempo'])])),\n",
       "                ('randomforestregressor', RandomForestRegressor())])</pre></div></div></div><div class=\"sk-serial\"><div class=\"sk-item sk-dashed-wrapped\"><div class=\"sk-label-container\"><div class=\"sk-label sk-toggleable\"><input class=\"sk-toggleable__control sk-hidden--visually\" id=\"2c7b7a2e-52e8-4519-94c6-836af5abae02\" type=\"checkbox\" ><label class=\"sk-toggleable__label\" for=\"2c7b7a2e-52e8-4519-94c6-836af5abae02\">columntransformer: ColumnTransformer</label><div class=\"sk-toggleable__content\"><pre>ColumnTransformer(transformers=[('One-Hot-Encoder',\n",
       "                                 OneHotEncoder(handle_unknown='ignore'),\n",
       "                                 ['explicit', 'key', 'mode', 'time_signature']),\n",
       "                                ('MinMaxScaler', MinMaxScaler(),\n",
       "                                 ['danceability', 'energy', 'loudness',\n",
       "                                  'speechiness', 'acousticness',\n",
       "                                  'instrumentalness', 'liveness', 'valence',\n",
       "                                  'tempo'])])</pre></div></div></div><div class=\"sk-parallel\"><div class=\"sk-parallel-item\"><div class=\"sk-item\"><div class=\"sk-label-container\"><div class=\"sk-label sk-toggleable\"><input class=\"sk-toggleable__control sk-hidden--visually\" id=\"0c6d3dac-0b92-499b-86af-a4a0c3a1b404\" type=\"checkbox\" ><label class=\"sk-toggleable__label\" for=\"0c6d3dac-0b92-499b-86af-a4a0c3a1b404\">One-Hot-Encoder</label><div class=\"sk-toggleable__content\"><pre>['explicit', 'key', 'mode', 'time_signature']</pre></div></div></div><div class=\"sk-serial\"><div class=\"sk-item\"><div class=\"sk-estimator sk-toggleable\"><input class=\"sk-toggleable__control sk-hidden--visually\" id=\"0b55a4b2-e42e-46a7-9639-8a328e59e56c\" type=\"checkbox\" ><label class=\"sk-toggleable__label\" for=\"0b55a4b2-e42e-46a7-9639-8a328e59e56c\">OneHotEncoder</label><div class=\"sk-toggleable__content\"><pre>OneHotEncoder(handle_unknown='ignore')</pre></div></div></div></div></div></div><div class=\"sk-parallel-item\"><div class=\"sk-item\"><div class=\"sk-label-container\"><div class=\"sk-label sk-toggleable\"><input class=\"sk-toggleable__control sk-hidden--visually\" id=\"84f99f1c-9ab1-4193-bdce-86d69a155c79\" type=\"checkbox\" ><label class=\"sk-toggleable__label\" for=\"84f99f1c-9ab1-4193-bdce-86d69a155c79\">MinMaxScaler</label><div class=\"sk-toggleable__content\"><pre>['danceability', 'energy', 'loudness', 'speechiness', 'acousticness', 'instrumentalness', 'liveness', 'valence', 'tempo']</pre></div></div></div><div class=\"sk-serial\"><div class=\"sk-item\"><div class=\"sk-estimator sk-toggleable\"><input class=\"sk-toggleable__control sk-hidden--visually\" id=\"1e8bb5f1-8c34-4ec0-b27d-0546057b604b\" type=\"checkbox\" ><label class=\"sk-toggleable__label\" for=\"1e8bb5f1-8c34-4ec0-b27d-0546057b604b\">MinMaxScaler</label><div class=\"sk-toggleable__content\"><pre>MinMaxScaler()</pre></div></div></div></div></div></div></div></div><div class=\"sk-item\"><div class=\"sk-estimator sk-toggleable\"><input class=\"sk-toggleable__control sk-hidden--visually\" id=\"4ab89379-6d64-4ec0-bbde-442a4e76fb2e\" type=\"checkbox\" ><label class=\"sk-toggleable__label\" for=\"4ab89379-6d64-4ec0-bbde-442a4e76fb2e\">RandomForestRegressor</label><div class=\"sk-toggleable__content\"><pre>RandomForestRegressor()</pre></div></div></div></div></div></div></div>"
      ],
      "text/plain": [
       "Pipeline(steps=[('columntransformer',\n",
       "                 ColumnTransformer(transformers=[('One-Hot-Encoder',\n",
       "                                                  OneHotEncoder(handle_unknown='ignore'),\n",
       "                                                  ['explicit', 'key', 'mode',\n",
       "                                                   'time_signature']),\n",
       "                                                 ('MinMaxScaler',\n",
       "                                                  MinMaxScaler(),\n",
       "                                                  ['danceability', 'energy',\n",
       "                                                   'loudness', 'speechiness',\n",
       "                                                   'acousticness',\n",
       "                                                   'instrumentalness',\n",
       "                                                   'liveness', 'valence',\n",
       "                                                   'tempo'])])),\n",
       "                ('randomforestregressor', RandomForestRegressor())])"
      ]
     },
     "execution_count": 38,
     "metadata": {},
     "output_type": "execute_result"
    }
   ],
   "source": [
    "from sklearn.ensemble import RandomForestRegressor\n",
    "\n",
    "forest_model = make_pipeline(preprocessor, RandomForestRegressor())\n",
    "set_config(display='diagram')\n",
    "forest_model"
   ]
  },
  {
   "cell_type": "code",
   "execution_count": 39,
   "metadata": {},
   "outputs": [
    {
     "data": {
      "text/plain": [
       "4.230453386973298"
      ]
     },
     "execution_count": 39,
     "metadata": {},
     "output_type": "execute_result"
    }
   ],
   "source": [
    "forest_model.fit(train_set, train_target)\n",
    "forest_pred = forest_model.predict(train_set)\n",
    "forest_mae = mean_absolute_error(train_target, forest_pred)\n",
    "forest_mae"
   ]
  },
  {
   "cell_type": "markdown",
   "metadata": {},
   "source": [
    "This is a good score for the training set. Let's evaluate the performance on the validation set:"
   ]
  },
  {
   "cell_type": "code",
   "execution_count": 40,
   "metadata": {},
   "outputs": [
    {
     "data": {
      "text/plain": [
       "11.116407688174501"
      ]
     },
     "execution_count": 40,
     "metadata": {},
     "output_type": "execute_result"
    }
   ],
   "source": [
    "forest_pred = forest_model.predict(val_set)\n",
    "forest_mae = mean_absolute_error(val_target, forest_pred)\n",
    "forest_mae"
   ]
  },
  {
   "cell_type": "markdown",
   "metadata": {},
   "source": [
    "The performance is slightly better than the LinearRegression model. Can we improve it?"
   ]
  },
  {
   "cell_type": "markdown",
   "metadata": {},
   "source": [
    "# Hyperparameter tuning with GridSearchCV"
   ]
  },
  {
   "cell_type": "code",
   "execution_count": 41,
   "metadata": {},
   "outputs": [],
   "source": [
    "from sklearn.model_selection import GridSearchCV\n",
    "\n",
    "# Sets of dictionaries defining hyperparameter ranges and values\n",
    "param_grid = [\n",
    "    {'n_estimators': [10,30,50], 'max_features': [2, 4, 6]},\n",
    "    {'bootstrap': [False], 'n_estimators': [10, 30], 'max_features': [3, 4]}\n",
    "]"
   ]
  },
  {
   "cell_type": "markdown",
   "metadata": {},
   "source": [
    "Let's define a pipeline combining our preprocessor and a RandomForestRegressor whose best hyperparameters will be identified by GridSearchCV. The option 'refit=True' ensures that the entire dataset will be used to train the best model (stored as 'grid_forest'):"
   ]
  },
  {
   "cell_type": "code",
   "execution_count": 42,
   "metadata": {},
   "outputs": [],
   "source": [
    "grid_forest = make_pipeline(preprocessor, \n",
    "                            GridSearchCV(RandomForestRegressor(), \n",
    "                                         param_grid, \n",
    "                                         cv=3, \n",
    "                                         scoring='neg_mean_absolute_error', \n",
    "                                         return_train_score=True, \n",
    "                                         refit=True)\n",
    "                           )"
   ]
  },
  {
   "cell_type": "code",
   "execution_count": 43,
   "metadata": {},
   "outputs": [
    {
     "data": {
      "text/html": [
       "<style>div.sk-top-container {color: black;background-color: white;}div.sk-toggleable {background-color: white;}label.sk-toggleable__label {cursor: pointer;display: block;width: 100%;margin-bottom: 0;padding: 0.2em 0.3em;box-sizing: border-box;text-align: center;}div.sk-toggleable__content {max-height: 0;max-width: 0;overflow: hidden;text-align: left;background-color: #f0f8ff;}div.sk-toggleable__content pre {margin: 0.2em;color: black;border-radius: 0.25em;background-color: #f0f8ff;}input.sk-toggleable__control:checked~div.sk-toggleable__content {max-height: 200px;max-width: 100%;overflow: auto;}div.sk-estimator input.sk-toggleable__control:checked~label.sk-toggleable__label {background-color: #d4ebff;}div.sk-label input.sk-toggleable__control:checked~label.sk-toggleable__label {background-color: #d4ebff;}input.sk-hidden--visually {border: 0;clip: rect(1px 1px 1px 1px);clip: rect(1px, 1px, 1px, 1px);height: 1px;margin: -1px;overflow: hidden;padding: 0;position: absolute;width: 1px;}div.sk-estimator {font-family: monospace;background-color: #f0f8ff;margin: 0.25em 0.25em;border: 1px dotted black;border-radius: 0.25em;box-sizing: border-box;}div.sk-estimator:hover {background-color: #d4ebff;}div.sk-parallel-item::after {content: \"\";width: 100%;border-bottom: 1px solid gray;flex-grow: 1;}div.sk-label:hover label.sk-toggleable__label {background-color: #d4ebff;}div.sk-serial::before {content: \"\";position: absolute;border-left: 1px solid gray;box-sizing: border-box;top: 2em;bottom: 0;left: 50%;}div.sk-serial {display: flex;flex-direction: column;align-items: center;background-color: white;}div.sk-item {z-index: 1;}div.sk-parallel {display: flex;align-items: stretch;justify-content: center;background-color: white;}div.sk-parallel-item {display: flex;flex-direction: column;position: relative;background-color: white;}div.sk-parallel-item:first-child::after {align-self: flex-end;width: 50%;}div.sk-parallel-item:last-child::after {align-self: flex-start;width: 50%;}div.sk-parallel-item:only-child::after {width: 0;}div.sk-dashed-wrapped {border: 1px dashed gray;margin: 0.2em;box-sizing: border-box;padding-bottom: 0.1em;background-color: white;position: relative;}div.sk-label label {font-family: monospace;font-weight: bold;background-color: white;display: inline-block;line-height: 1.2em;}div.sk-label-container {position: relative;z-index: 2;text-align: center;}div.sk-container {display: inline-block;position: relative;}</style><div class=\"sk-top-container\"><div class=\"sk-container\"><div class=\"sk-item sk-dashed-wrapped\"><div class=\"sk-label-container\"><div class=\"sk-label sk-toggleable\"><input class=\"sk-toggleable__control sk-hidden--visually\" id=\"513133fd-9cd9-4c90-9449-286189edc81a\" type=\"checkbox\" ><label class=\"sk-toggleable__label\" for=\"513133fd-9cd9-4c90-9449-286189edc81a\">Pipeline</label><div class=\"sk-toggleable__content\"><pre>Pipeline(steps=[('columntransformer',\n",
       "                 ColumnTransformer(transformers=[('One-Hot-Encoder',\n",
       "                                                  OneHotEncoder(handle_unknown='ignore'),\n",
       "                                                  ['explicit', 'key', 'mode',\n",
       "                                                   'time_signature']),\n",
       "                                                 ('MinMaxScaler',\n",
       "                                                  MinMaxScaler(),\n",
       "                                                  ['danceability', 'energy',\n",
       "                                                   'loudness', 'speechiness',\n",
       "                                                   'acousticness',\n",
       "                                                   'instrumentalness',\n",
       "                                                   'liveness', 'valence',\n",
       "                                                   'tempo'])])),\n",
       "                ('gridsearchcv',\n",
       "                 GridSearchCV(cv=3, estimator=RandomForestRegressor(),\n",
       "                              param_grid=[{'max_features': [2, 4, 6],\n",
       "                                           'n_estimators': [10, 30, 50]},\n",
       "                                          {'bootstrap': [False],\n",
       "                                           'max_features': [3, 4],\n",
       "                                           'n_estimators': [10, 30]}],\n",
       "                              return_train_score=True,\n",
       "                              scoring='neg_mean_absolute_error'))])</pre></div></div></div><div class=\"sk-serial\"><div class=\"sk-item sk-dashed-wrapped\"><div class=\"sk-label-container\"><div class=\"sk-label sk-toggleable\"><input class=\"sk-toggleable__control sk-hidden--visually\" id=\"c9b5bb2c-0e37-474d-bdf1-a5aa29c1df94\" type=\"checkbox\" ><label class=\"sk-toggleable__label\" for=\"c9b5bb2c-0e37-474d-bdf1-a5aa29c1df94\">columntransformer: ColumnTransformer</label><div class=\"sk-toggleable__content\"><pre>ColumnTransformer(transformers=[('One-Hot-Encoder',\n",
       "                                 OneHotEncoder(handle_unknown='ignore'),\n",
       "                                 ['explicit', 'key', 'mode', 'time_signature']),\n",
       "                                ('MinMaxScaler', MinMaxScaler(),\n",
       "                                 ['danceability', 'energy', 'loudness',\n",
       "                                  'speechiness', 'acousticness',\n",
       "                                  'instrumentalness', 'liveness', 'valence',\n",
       "                                  'tempo'])])</pre></div></div></div><div class=\"sk-parallel\"><div class=\"sk-parallel-item\"><div class=\"sk-item\"><div class=\"sk-label-container\"><div class=\"sk-label sk-toggleable\"><input class=\"sk-toggleable__control sk-hidden--visually\" id=\"0fd17852-5176-4b2b-914e-94088c921efc\" type=\"checkbox\" ><label class=\"sk-toggleable__label\" for=\"0fd17852-5176-4b2b-914e-94088c921efc\">One-Hot-Encoder</label><div class=\"sk-toggleable__content\"><pre>['explicit', 'key', 'mode', 'time_signature']</pre></div></div></div><div class=\"sk-serial\"><div class=\"sk-item\"><div class=\"sk-estimator sk-toggleable\"><input class=\"sk-toggleable__control sk-hidden--visually\" id=\"38437351-491b-4ead-b6bd-d697d8b29f17\" type=\"checkbox\" ><label class=\"sk-toggleable__label\" for=\"38437351-491b-4ead-b6bd-d697d8b29f17\">OneHotEncoder</label><div class=\"sk-toggleable__content\"><pre>OneHotEncoder(handle_unknown='ignore')</pre></div></div></div></div></div></div><div class=\"sk-parallel-item\"><div class=\"sk-item\"><div class=\"sk-label-container\"><div class=\"sk-label sk-toggleable\"><input class=\"sk-toggleable__control sk-hidden--visually\" id=\"789155c5-925a-49b4-881c-4c9b247893ab\" type=\"checkbox\" ><label class=\"sk-toggleable__label\" for=\"789155c5-925a-49b4-881c-4c9b247893ab\">MinMaxScaler</label><div class=\"sk-toggleable__content\"><pre>['danceability', 'energy', 'loudness', 'speechiness', 'acousticness', 'instrumentalness', 'liveness', 'valence', 'tempo']</pre></div></div></div><div class=\"sk-serial\"><div class=\"sk-item\"><div class=\"sk-estimator sk-toggleable\"><input class=\"sk-toggleable__control sk-hidden--visually\" id=\"65dbabca-c12b-4e36-b847-02a431c18802\" type=\"checkbox\" ><label class=\"sk-toggleable__label\" for=\"65dbabca-c12b-4e36-b847-02a431c18802\">MinMaxScaler</label><div class=\"sk-toggleable__content\"><pre>MinMaxScaler()</pre></div></div></div></div></div></div></div></div><div class=\"sk-item sk-dashed-wrapped\"><div class=\"sk-label-container\"><div class=\"sk-label sk-toggleable\"><input class=\"sk-toggleable__control sk-hidden--visually\" id=\"cfd5b994-4d33-4842-b47f-ccf1e6c4c55f\" type=\"checkbox\" ><label class=\"sk-toggleable__label\" for=\"cfd5b994-4d33-4842-b47f-ccf1e6c4c55f\">gridsearchcv: GridSearchCV</label><div class=\"sk-toggleable__content\"><pre>GridSearchCV(cv=3, estimator=RandomForestRegressor(),\n",
       "             param_grid=[{'max_features': [2, 4, 6],\n",
       "                          'n_estimators': [10, 30, 50]},\n",
       "                         {'bootstrap': [False], 'max_features': [3, 4],\n",
       "                          'n_estimators': [10, 30]}],\n",
       "             return_train_score=True, scoring='neg_mean_absolute_error')</pre></div></div></div><div class=\"sk-parallel\"><div class=\"sk-parallel-item\"><div class=\"sk-item\"><div class=\"sk-serial\"><div class=\"sk-item\"><div class=\"sk-estimator sk-toggleable\"><input class=\"sk-toggleable__control sk-hidden--visually\" id=\"1020644a-fa76-4f11-a6be-d7c53ac4c719\" type=\"checkbox\" ><label class=\"sk-toggleable__label\" for=\"1020644a-fa76-4f11-a6be-d7c53ac4c719\">RandomForestRegressor</label><div class=\"sk-toggleable__content\"><pre>RandomForestRegressor()</pre></div></div></div></div></div></div></div></div></div></div></div></div>"
      ],
      "text/plain": [
       "Pipeline(steps=[('columntransformer',\n",
       "                 ColumnTransformer(transformers=[('One-Hot-Encoder',\n",
       "                                                  OneHotEncoder(handle_unknown='ignore'),\n",
       "                                                  ['explicit', 'key', 'mode',\n",
       "                                                   'time_signature']),\n",
       "                                                 ('MinMaxScaler',\n",
       "                                                  MinMaxScaler(),\n",
       "                                                  ['danceability', 'energy',\n",
       "                                                   'loudness', 'speechiness',\n",
       "                                                   'acousticness',\n",
       "                                                   'instrumentalness',\n",
       "                                                   'liveness', 'valence',\n",
       "                                                   'tempo'])])),\n",
       "                ('gridsearchcv',\n",
       "                 GridSearchCV(cv=3, estimator=RandomForestRegressor(),\n",
       "                              param_grid=[{'max_features': [2, 4, 6],\n",
       "                                           'n_estimators': [10, 30, 50]},\n",
       "                                          {'bootstrap': [False],\n",
       "                                           'max_features': [3, 4],\n",
       "                                           'n_estimators': [10, 30]}],\n",
       "                              return_train_score=True,\n",
       "                              scoring='neg_mean_absolute_error'))])"
      ]
     },
     "execution_count": 43,
     "metadata": {},
     "output_type": "execute_result"
    }
   ],
   "source": [
    "grid_forest.fit(X, y)"
   ]
  },
  {
   "cell_type": "code",
   "execution_count": 44,
   "metadata": {},
   "outputs": [
    {
     "data": {
      "text/plain": [
       "['my_best_model.pkl']"
      ]
     },
     "execution_count": 44,
     "metadata": {},
     "output_type": "execute_result"
    }
   ],
   "source": [
    "# let's serialize the best model for later use\n",
    "import joblib\n",
    "\n",
    "joblib.dump(grid_forest, \"my_best_model.pkl\")"
   ]
  },
  {
   "cell_type": "markdown",
   "metadata": {},
   "source": [
    "# Final evaluation of the system on the test set"
   ]
  },
  {
   "cell_type": "code",
   "execution_count": 45,
   "metadata": {},
   "outputs": [],
   "source": [
    "# Retrieve the best model by deserializing it\n",
    "my_model_loaded = joblib.load(\"my_best_model.pkl\")"
   ]
  },
  {
   "cell_type": "markdown",
   "metadata": {},
   "source": [
    "The test set was set aside from the beginning and consists of data that the final model has literally never seen before. Therefore, evaluating performance on it is comparable to real life conditions. Firstly, let's format our data by selecting the desired columns, then calling 'predict()' on the model will automatically preprocess the test data with our previous pipeline transformers."
   ]
  },
  {
   "cell_type": "code",
   "execution_count": 46,
   "metadata": {},
   "outputs": [
    {
     "name": "stderr",
     "output_type": "stream",
     "text": [
      "/Users/msf/anaconda3/lib/python3.8/site-packages/pandas/core/indexing.py:966: SettingWithCopyWarning: \n",
      "A value is trying to be set on a copy of a slice from a DataFrame.\n",
      "Try using .loc[row_indexer,col_indexer] = value instead\n",
      "\n",
      "See the caveats in the documentation: https://pandas.pydata.org/pandas-docs/stable/user_guide/indexing.html#returning-a-view-versus-a-copy\n",
      "  self.obj[item] = s\n"
     ]
    }
   ],
   "source": [
    "X_test = test_data[['explicit', 'danceability', 'energy', 'key', 'loudness', 'mode', 'speechiness', 'acousticness', 'instrumentalness', 'liveness', 'valence', 'tempo', 'time_signature']]\n",
    "X_test.loc[:, ['explicit', 'key', 'mode', 'time_signature']] = X_test.loc[:, ['explicit', 'key', 'mode', 'time_signature']].astype('category')\n",
    "\n",
    "y_test = test_data.popularity.values"
   ]
  },
  {
   "cell_type": "code",
   "execution_count": 47,
   "metadata": {},
   "outputs": [],
   "source": [
    "final_predictions = my_model_loaded.predict(X_test)"
   ]
  },
  {
   "cell_type": "code",
   "execution_count": 48,
   "metadata": {},
   "outputs": [
    {
     "data": {
      "text/plain": [
       "11.18080435422084"
      ]
     },
     "execution_count": 48,
     "metadata": {},
     "output_type": "execute_result"
    }
   ],
   "source": [
    "mean_absolute_error(y_test, final_predictions)"
   ]
  },
  {
   "cell_type": "markdown",
   "metadata": {},
   "source": [
    "This result is final and should not trigger any more model tweaking, or it will fail to generalize to new data."
   ]
  }
 ],
 "metadata": {
  "kernelspec": {
   "display_name": "Python 3",
   "language": "python",
   "name": "python3"
  },
  "language_info": {
   "codemirror_mode": {
    "name": "ipython",
    "version": 3
   },
   "file_extension": ".py",
   "mimetype": "text/x-python",
   "name": "python",
   "nbconvert_exporter": "python",
   "pygments_lexer": "ipython3",
   "version": "3.8.5"
  }
 },
 "nbformat": 4,
 "nbformat_minor": 4
}
