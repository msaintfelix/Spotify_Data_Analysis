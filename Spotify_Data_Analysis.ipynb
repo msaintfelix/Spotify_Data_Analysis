{
 "cells": [
  {
   "cell_type": "markdown",
   "metadata": {},
   "source": [
    "# Spotify Data Analysis: Song Popularity Predictions."
   ]
  },
  {
   "cell_type": "markdown",
   "metadata": {},
   "source": [
    "The objective of this notebook is to predict the popularity of a song using a 600k song dataset from Kaggle:\n",
    "https://www.kaggle.com/yamaerenay/spotify-dataset-19212020-160k-tracks\n",
    "\n",
    "We will use a mix of categorical and numerical features from 'tracks.csv' to perform a multi-linear regression using Scikit-Learn Pipelines. The objective is to minimize the \"mean_absolute_error\" metric of a numerical target feature."
   ]
  },
  {
   "cell_type": "code",
   "execution_count": 1,
   "metadata": {},
   "outputs": [],
   "source": [
    "import numpy as np\n",
    "import pandas as pd\n",
    "import seaborn as sns\n",
    "\n",
    "from sklearn.compose import make_column_selector as selector\n",
    "from sklearn.compose import ColumnTransformer\n",
    "from sklearn.pipeline import make_pipeline\n",
    "from sklearn.preprocessing import OneHotEncoder, StandardScaler\n",
    "\n",
    "from sklearn.linear_model import LinearRegression\n",
    "\n",
    "from sklearn.model_selection import train_test_split\n",
    "from sklearn import set_config\n",
    "from sklearn.metrics import mean_absolute_error\n",
    "\n",
    "from yellowbrick.regressor import ResidualsPlot\n",
    "from yellowbrick.regressor import PredictionError"
   ]
  },
  {
   "cell_type": "markdown",
   "metadata": {},
   "source": [
    "The dataset has 20 features (numerical and categorical) and has nearly 600 000 songs. Let's check for Nan values. The column 'name' is the only column with NaN values and it will be dropped later on as it is of no use for our model:"
   ]
  },
  {
   "cell_type": "code",
   "execution_count": 2,
   "metadata": {},
   "outputs": [
    {
     "name": "stdout",
     "output_type": "stream",
     "text": [
      "<class 'pandas.core.frame.DataFrame'>\n",
      "RangeIndex: 586672 entries, 0 to 586671\n",
      "Data columns (total 20 columns):\n",
      " #   Column            Non-Null Count   Dtype  \n",
      "---  ------            --------------   -----  \n",
      " 0   id                586672 non-null  object \n",
      " 1   name              586601 non-null  object \n",
      " 2   popularity        586672 non-null  int64  \n",
      " 3   duration_ms       586672 non-null  int64  \n",
      " 4   explicit          586672 non-null  int64  \n",
      " 5   artists           586672 non-null  object \n",
      " 6   id_artists        586672 non-null  object \n",
      " 7   release_date      586672 non-null  object \n",
      " 8   danceability      586672 non-null  float64\n",
      " 9   energy            586672 non-null  float64\n",
      " 10  key               586672 non-null  int64  \n",
      " 11  loudness          586672 non-null  float64\n",
      " 12  mode              586672 non-null  int64  \n",
      " 13  speechiness       586672 non-null  float64\n",
      " 14  acousticness      586672 non-null  float64\n",
      " 15  instrumentalness  586672 non-null  float64\n",
      " 16  liveness          586672 non-null  float64\n",
      " 17  valence           586672 non-null  float64\n",
      " 18  tempo             586672 non-null  float64\n",
      " 19  time_signature    586672 non-null  int64  \n",
      "dtypes: float64(9), int64(6), object(5)\n",
      "memory usage: 89.5+ MB\n"
     ]
    }
   ],
   "source": [
    "df = pd.read_csv('Dataset/tracks.csv')\n",
    "df.info()"
   ]
  },
  {
   "cell_type": "code",
   "execution_count": 3,
   "metadata": {},
   "outputs": [
    {
     "data": {
      "text/html": [
       "<div>\n",
       "<style scoped>\n",
       "    .dataframe tbody tr th:only-of-type {\n",
       "        vertical-align: middle;\n",
       "    }\n",
       "\n",
       "    .dataframe tbody tr th {\n",
       "        vertical-align: top;\n",
       "    }\n",
       "\n",
       "    .dataframe thead th {\n",
       "        text-align: right;\n",
       "    }\n",
       "</style>\n",
       "<table border=\"1\" class=\"dataframe\">\n",
       "  <thead>\n",
       "    <tr style=\"text-align: right;\">\n",
       "      <th></th>\n",
       "      <th>id</th>\n",
       "      <th>name</th>\n",
       "      <th>popularity</th>\n",
       "      <th>duration_ms</th>\n",
       "      <th>explicit</th>\n",
       "      <th>artists</th>\n",
       "      <th>id_artists</th>\n",
       "      <th>release_date</th>\n",
       "      <th>danceability</th>\n",
       "      <th>energy</th>\n",
       "      <th>key</th>\n",
       "      <th>loudness</th>\n",
       "      <th>mode</th>\n",
       "      <th>speechiness</th>\n",
       "      <th>acousticness</th>\n",
       "      <th>instrumentalness</th>\n",
       "      <th>liveness</th>\n",
       "      <th>valence</th>\n",
       "      <th>tempo</th>\n",
       "      <th>time_signature</th>\n",
       "    </tr>\n",
       "  </thead>\n",
       "  <tbody>\n",
       "    <tr>\n",
       "      <th>0</th>\n",
       "      <td>35iwgR4jXetI318WEWsa1Q</td>\n",
       "      <td>Carve</td>\n",
       "      <td>6</td>\n",
       "      <td>126903</td>\n",
       "      <td>0</td>\n",
       "      <td>['Uli']</td>\n",
       "      <td>['45tIt06XoI0Iio4LBEVpls']</td>\n",
       "      <td>1922-02-22</td>\n",
       "      <td>0.645</td>\n",
       "      <td>0.4450</td>\n",
       "      <td>0</td>\n",
       "      <td>-13.338</td>\n",
       "      <td>1</td>\n",
       "      <td>0.4510</td>\n",
       "      <td>0.674</td>\n",
       "      <td>0.744000</td>\n",
       "      <td>0.1510</td>\n",
       "      <td>0.1270</td>\n",
       "      <td>104.851</td>\n",
       "      <td>3</td>\n",
       "    </tr>\n",
       "    <tr>\n",
       "      <th>1</th>\n",
       "      <td>021ht4sdgPcrDgSk7JTbKY</td>\n",
       "      <td>Capítulo 2.16 - Banquero Anarquista</td>\n",
       "      <td>0</td>\n",
       "      <td>98200</td>\n",
       "      <td>0</td>\n",
       "      <td>['Fernando Pessoa']</td>\n",
       "      <td>['14jtPCOoNZwquk5wd9DxrY']</td>\n",
       "      <td>1922-06-01</td>\n",
       "      <td>0.695</td>\n",
       "      <td>0.2630</td>\n",
       "      <td>0</td>\n",
       "      <td>-22.136</td>\n",
       "      <td>1</td>\n",
       "      <td>0.9570</td>\n",
       "      <td>0.797</td>\n",
       "      <td>0.000000</td>\n",
       "      <td>0.1480</td>\n",
       "      <td>0.6550</td>\n",
       "      <td>102.009</td>\n",
       "      <td>1</td>\n",
       "    </tr>\n",
       "    <tr>\n",
       "      <th>2</th>\n",
       "      <td>07A5yehtSnoedViJAZkNnc</td>\n",
       "      <td>Vivo para Quererte - Remasterizado</td>\n",
       "      <td>0</td>\n",
       "      <td>181640</td>\n",
       "      <td>0</td>\n",
       "      <td>['Ignacio Corsini']</td>\n",
       "      <td>['5LiOoJbxVSAMkBS2fUm3X2']</td>\n",
       "      <td>1922-03-21</td>\n",
       "      <td>0.434</td>\n",
       "      <td>0.1770</td>\n",
       "      <td>1</td>\n",
       "      <td>-21.180</td>\n",
       "      <td>1</td>\n",
       "      <td>0.0512</td>\n",
       "      <td>0.994</td>\n",
       "      <td>0.021800</td>\n",
       "      <td>0.2120</td>\n",
       "      <td>0.4570</td>\n",
       "      <td>130.418</td>\n",
       "      <td>5</td>\n",
       "    </tr>\n",
       "    <tr>\n",
       "      <th>3</th>\n",
       "      <td>08FmqUhxtyLTn6pAh6bk45</td>\n",
       "      <td>El Prisionero - Remasterizado</td>\n",
       "      <td>0</td>\n",
       "      <td>176907</td>\n",
       "      <td>0</td>\n",
       "      <td>['Ignacio Corsini']</td>\n",
       "      <td>['5LiOoJbxVSAMkBS2fUm3X2']</td>\n",
       "      <td>1922-03-21</td>\n",
       "      <td>0.321</td>\n",
       "      <td>0.0946</td>\n",
       "      <td>7</td>\n",
       "      <td>-27.961</td>\n",
       "      <td>1</td>\n",
       "      <td>0.0504</td>\n",
       "      <td>0.995</td>\n",
       "      <td>0.918000</td>\n",
       "      <td>0.1040</td>\n",
       "      <td>0.3970</td>\n",
       "      <td>169.980</td>\n",
       "      <td>3</td>\n",
       "    </tr>\n",
       "    <tr>\n",
       "      <th>4</th>\n",
       "      <td>08y9GfoqCWfOGsKdwojr5e</td>\n",
       "      <td>Lady of the Evening</td>\n",
       "      <td>0</td>\n",
       "      <td>163080</td>\n",
       "      <td>0</td>\n",
       "      <td>['Dick Haymes']</td>\n",
       "      <td>['3BiJGZsyX9sJchTqcSA7Su']</td>\n",
       "      <td>1922</td>\n",
       "      <td>0.402</td>\n",
       "      <td>0.1580</td>\n",
       "      <td>3</td>\n",
       "      <td>-16.900</td>\n",
       "      <td>0</td>\n",
       "      <td>0.0390</td>\n",
       "      <td>0.989</td>\n",
       "      <td>0.130000</td>\n",
       "      <td>0.3110</td>\n",
       "      <td>0.1960</td>\n",
       "      <td>103.220</td>\n",
       "      <td>4</td>\n",
       "    </tr>\n",
       "    <tr>\n",
       "      <th>5</th>\n",
       "      <td>0BRXJHRNGQ3W4v9frnSfhu</td>\n",
       "      <td>Ave Maria</td>\n",
       "      <td>0</td>\n",
       "      <td>178933</td>\n",
       "      <td>0</td>\n",
       "      <td>['Dick Haymes']</td>\n",
       "      <td>['3BiJGZsyX9sJchTqcSA7Su']</td>\n",
       "      <td>1922</td>\n",
       "      <td>0.227</td>\n",
       "      <td>0.2610</td>\n",
       "      <td>5</td>\n",
       "      <td>-12.343</td>\n",
       "      <td>1</td>\n",
       "      <td>0.0382</td>\n",
       "      <td>0.994</td>\n",
       "      <td>0.247000</td>\n",
       "      <td>0.0977</td>\n",
       "      <td>0.0539</td>\n",
       "      <td>118.891</td>\n",
       "      <td>4</td>\n",
       "    </tr>\n",
       "    <tr>\n",
       "      <th>6</th>\n",
       "      <td>0Dd9ImXtAtGwsmsAD69KZT</td>\n",
       "      <td>La Butte Rouge</td>\n",
       "      <td>0</td>\n",
       "      <td>134467</td>\n",
       "      <td>0</td>\n",
       "      <td>['Francis Marty']</td>\n",
       "      <td>['2nuMRGzeJ5jJEKlfS7rZ0W']</td>\n",
       "      <td>1922</td>\n",
       "      <td>0.510</td>\n",
       "      <td>0.3550</td>\n",
       "      <td>4</td>\n",
       "      <td>-12.833</td>\n",
       "      <td>1</td>\n",
       "      <td>0.1240</td>\n",
       "      <td>0.965</td>\n",
       "      <td>0.000000</td>\n",
       "      <td>0.1550</td>\n",
       "      <td>0.7270</td>\n",
       "      <td>85.754</td>\n",
       "      <td>5</td>\n",
       "    </tr>\n",
       "    <tr>\n",
       "      <th>7</th>\n",
       "      <td>0IA0Hju8CAgYfV1hwhidBH</td>\n",
       "      <td>La Java</td>\n",
       "      <td>0</td>\n",
       "      <td>161427</td>\n",
       "      <td>0</td>\n",
       "      <td>['Mistinguett']</td>\n",
       "      <td>['4AxgXfD7ISvJSTObqm4aIE']</td>\n",
       "      <td>1922</td>\n",
       "      <td>0.563</td>\n",
       "      <td>0.1840</td>\n",
       "      <td>4</td>\n",
       "      <td>-13.757</td>\n",
       "      <td>1</td>\n",
       "      <td>0.0512</td>\n",
       "      <td>0.993</td>\n",
       "      <td>0.000016</td>\n",
       "      <td>0.3250</td>\n",
       "      <td>0.6540</td>\n",
       "      <td>133.088</td>\n",
       "      <td>3</td>\n",
       "    </tr>\n",
       "    <tr>\n",
       "      <th>8</th>\n",
       "      <td>0IgI1UCz84pYeVetnl1lGP</td>\n",
       "      <td>Old Fashioned Girl</td>\n",
       "      <td>0</td>\n",
       "      <td>310073</td>\n",
       "      <td>0</td>\n",
       "      <td>['Greg Fieler']</td>\n",
       "      <td>['5nWlsH5RDgFuRAiDeOFVmf']</td>\n",
       "      <td>1922</td>\n",
       "      <td>0.488</td>\n",
       "      <td>0.4750</td>\n",
       "      <td>0</td>\n",
       "      <td>-16.222</td>\n",
       "      <td>0</td>\n",
       "      <td>0.0399</td>\n",
       "      <td>0.620</td>\n",
       "      <td>0.006450</td>\n",
       "      <td>0.1070</td>\n",
       "      <td>0.5440</td>\n",
       "      <td>139.952</td>\n",
       "      <td>4</td>\n",
       "    </tr>\n",
       "    <tr>\n",
       "      <th>9</th>\n",
       "      <td>0JV4iqw2lSKJaHBQZ0e5zK</td>\n",
       "      <td>Martín Fierro - Remasterizado</td>\n",
       "      <td>0</td>\n",
       "      <td>181173</td>\n",
       "      <td>0</td>\n",
       "      <td>['Ignacio Corsini']</td>\n",
       "      <td>['5LiOoJbxVSAMkBS2fUm3X2']</td>\n",
       "      <td>1922-03-29</td>\n",
       "      <td>0.548</td>\n",
       "      <td>0.0391</td>\n",
       "      <td>6</td>\n",
       "      <td>-23.228</td>\n",
       "      <td>1</td>\n",
       "      <td>0.1530</td>\n",
       "      <td>0.996</td>\n",
       "      <td>0.933000</td>\n",
       "      <td>0.1480</td>\n",
       "      <td>0.6120</td>\n",
       "      <td>75.595</td>\n",
       "      <td>3</td>\n",
       "    </tr>\n",
       "  </tbody>\n",
       "</table>\n",
       "</div>"
      ],
      "text/plain": [
       "                       id                                 name  popularity  \\\n",
       "0  35iwgR4jXetI318WEWsa1Q                                Carve           6   \n",
       "1  021ht4sdgPcrDgSk7JTbKY  Capítulo 2.16 - Banquero Anarquista           0   \n",
       "2  07A5yehtSnoedViJAZkNnc   Vivo para Quererte - Remasterizado           0   \n",
       "3  08FmqUhxtyLTn6pAh6bk45        El Prisionero - Remasterizado           0   \n",
       "4  08y9GfoqCWfOGsKdwojr5e                  Lady of the Evening           0   \n",
       "5  0BRXJHRNGQ3W4v9frnSfhu                            Ave Maria           0   \n",
       "6  0Dd9ImXtAtGwsmsAD69KZT                       La Butte Rouge           0   \n",
       "7  0IA0Hju8CAgYfV1hwhidBH                              La Java           0   \n",
       "8  0IgI1UCz84pYeVetnl1lGP                   Old Fashioned Girl           0   \n",
       "9  0JV4iqw2lSKJaHBQZ0e5zK        Martín Fierro - Remasterizado           0   \n",
       "\n",
       "   duration_ms  explicit              artists                  id_artists  \\\n",
       "0       126903         0              ['Uli']  ['45tIt06XoI0Iio4LBEVpls']   \n",
       "1        98200         0  ['Fernando Pessoa']  ['14jtPCOoNZwquk5wd9DxrY']   \n",
       "2       181640         0  ['Ignacio Corsini']  ['5LiOoJbxVSAMkBS2fUm3X2']   \n",
       "3       176907         0  ['Ignacio Corsini']  ['5LiOoJbxVSAMkBS2fUm3X2']   \n",
       "4       163080         0      ['Dick Haymes']  ['3BiJGZsyX9sJchTqcSA7Su']   \n",
       "5       178933         0      ['Dick Haymes']  ['3BiJGZsyX9sJchTqcSA7Su']   \n",
       "6       134467         0    ['Francis Marty']  ['2nuMRGzeJ5jJEKlfS7rZ0W']   \n",
       "7       161427         0      ['Mistinguett']  ['4AxgXfD7ISvJSTObqm4aIE']   \n",
       "8       310073         0      ['Greg Fieler']  ['5nWlsH5RDgFuRAiDeOFVmf']   \n",
       "9       181173         0  ['Ignacio Corsini']  ['5LiOoJbxVSAMkBS2fUm3X2']   \n",
       "\n",
       "  release_date  danceability  energy  key  loudness  mode  speechiness  \\\n",
       "0   1922-02-22         0.645  0.4450    0   -13.338     1       0.4510   \n",
       "1   1922-06-01         0.695  0.2630    0   -22.136     1       0.9570   \n",
       "2   1922-03-21         0.434  0.1770    1   -21.180     1       0.0512   \n",
       "3   1922-03-21         0.321  0.0946    7   -27.961     1       0.0504   \n",
       "4         1922         0.402  0.1580    3   -16.900     0       0.0390   \n",
       "5         1922         0.227  0.2610    5   -12.343     1       0.0382   \n",
       "6         1922         0.510  0.3550    4   -12.833     1       0.1240   \n",
       "7         1922         0.563  0.1840    4   -13.757     1       0.0512   \n",
       "8         1922         0.488  0.4750    0   -16.222     0       0.0399   \n",
       "9   1922-03-29         0.548  0.0391    6   -23.228     1       0.1530   \n",
       "\n",
       "   acousticness  instrumentalness  liveness  valence    tempo  time_signature  \n",
       "0         0.674          0.744000    0.1510   0.1270  104.851               3  \n",
       "1         0.797          0.000000    0.1480   0.6550  102.009               1  \n",
       "2         0.994          0.021800    0.2120   0.4570  130.418               5  \n",
       "3         0.995          0.918000    0.1040   0.3970  169.980               3  \n",
       "4         0.989          0.130000    0.3110   0.1960  103.220               4  \n",
       "5         0.994          0.247000    0.0977   0.0539  118.891               4  \n",
       "6         0.965          0.000000    0.1550   0.7270   85.754               5  \n",
       "7         0.993          0.000016    0.3250   0.6540  133.088               3  \n",
       "8         0.620          0.006450    0.1070   0.5440  139.952               4  \n",
       "9         0.996          0.933000    0.1480   0.6120   75.595               3  "
      ]
     },
     "execution_count": 3,
     "metadata": {},
     "output_type": "execute_result"
    }
   ],
   "source": [
    "df.head(10)"
   ]
  },
  {
   "cell_type": "markdown",
   "metadata": {},
   "source": [
    "Let's shuffle our dataset and visualize the distribution of the 'popularity' target feature (100 bins for 0-100 ratings):"
   ]
  },
  {
   "cell_type": "code",
   "execution_count": 4,
   "metadata": {},
   "outputs": [
    {
     "data": {
      "text/plain": [
       "<AxesSubplot:ylabel='Frequency'>"
      ]
     },
     "execution_count": 4,
     "metadata": {},
     "output_type": "execute_result"
    },
    {
     "data": {
      "image/png": "[encoded data removed]",
      "text/plain": [
       "<Figure size 576x396 with 1 Axes>"
      ]
     },
     "metadata": {},
     "output_type": "display_data"
    }
   ],
   "source": [
    "df = df.sample(frac=1).reset_index(drop=True)\n",
    "df[['popularity']].plot.hist(bins=100)"
   ]
  },
  {
   "cell_type": "markdown",
   "metadata": {},
   "source": [
    "It seems like a significant amount of songs were not rated, or very rarely/poorly rated (no information about rating methods was provided). Consequently, our distribution appears to be skewed by these outliers. in order to preserve a more Gaussian-like distribution, let's get rid of them so we can learn relevant patterns from the rest of our data:"
   ]
  },
  {
   "cell_type": "code",
   "execution_count": 5,
   "metadata": {},
   "outputs": [
    {
     "data": {
      "text/plain": [
       "<AxesSubplot:ylabel='Frequency'>"
      ]
     },
     "execution_count": 5,
     "metadata": {},
     "output_type": "execute_result"
    },
    {
     "data": {
      "image/png": "[encoded data removed]",
      "text/plain": [
       "<Figure size 576x396 with 1 Axes>"
      ]
     },
     "metadata": {},
     "output_type": "display_data"
    }
   ],
   "source": [
    "df.drop(df[df['popularity']<3].index, inplace=True)\n",
    "df[['popularity']].plot.hist(bins=100)"
   ]
  },
  {
   "cell_type": "markdown",
   "metadata": {},
   "source": [
    "Some songs might have badly encoded/skewed features: getting rid of songs that have 'tempo'==0 (which is technically impossible) and making sure these outliers are not simply spoken files by checking their 'speechiness'.\n",
    "Also getting rid of songs which have a 'time_signature' of 0 or 1 (which is technically impossible)."
   ]
  },
  {
   "cell_type": "code",
   "execution_count": 6,
   "metadata": {},
   "outputs": [],
   "source": [
    "df.drop(df[(df['tempo']==0) & (df['speechiness']==0)].index, inplace=True)\n",
    "df.drop(df[df['time_signature']<2].index, inplace=True)"
   ]
  },
  {
   "cell_type": "markdown",
   "metadata": {},
   "source": [
    "Now let's define our X input matrix and y target vector:"
   ]
  },
  {
   "cell_type": "code",
   "execution_count": 7,
   "metadata": {},
   "outputs": [
    {
     "data": {
      "text/html": [
       "<div>\n",
       "<style scoped>\n",
       "    .dataframe tbody tr th:only-of-type {\n",
       "        vertical-align: middle;\n",
       "    }\n",
       "\n",
       "    .dataframe tbody tr th {\n",
       "        vertical-align: top;\n",
       "    }\n",
       "\n",
       "    .dataframe thead th {\n",
       "        text-align: right;\n",
       "    }\n",
       "</style>\n",
       "<table border=\"1\" class=\"dataframe\">\n",
       "  <thead>\n",
       "    <tr style=\"text-align: right;\">\n",
       "      <th></th>\n",
       "      <th>explicit</th>\n",
       "      <th>danceability</th>\n",
       "      <th>energy</th>\n",
       "      <th>key</th>\n",
       "      <th>loudness</th>\n",
       "      <th>mode</th>\n",
       "      <th>speechiness</th>\n",
       "      <th>acousticness</th>\n",
       "      <th>instrumentalness</th>\n",
       "      <th>liveness</th>\n",
       "      <th>valence</th>\n",
       "      <th>tempo</th>\n",
       "      <th>time_signature</th>\n",
       "    </tr>\n",
       "  </thead>\n",
       "  <tbody>\n",
       "    <tr>\n",
       "      <th>count</th>\n",
       "      <td>514919.000000</td>\n",
       "      <td>514919.000000</td>\n",
       "      <td>514919.000000</td>\n",
       "      <td>514919.000000</td>\n",
       "      <td>514919.000000</td>\n",
       "      <td>514919.000000</td>\n",
       "      <td>514919.000000</td>\n",
       "      <td>514919.000000</td>\n",
       "      <td>514919.000000</td>\n",
       "      <td>514919.000000</td>\n",
       "      <td>514919.000000</td>\n",
       "      <td>514919.000000</td>\n",
       "      <td>514919.000000</td>\n",
       "    </tr>\n",
       "    <tr>\n",
       "      <th>mean</th>\n",
       "      <td>0.048396</td>\n",
       "      <td>0.569720</td>\n",
       "      <td>0.564994</td>\n",
       "      <td>5.227088</td>\n",
       "      <td>-9.800890</td>\n",
       "      <td>0.654952</td>\n",
       "      <td>0.097715</td>\n",
       "      <td>0.411296</td>\n",
       "      <td>0.087655</td>\n",
       "      <td>0.212724</td>\n",
       "      <td>0.558458</td>\n",
       "      <td>119.321963</td>\n",
       "      <td>3.914864</td>\n",
       "    </tr>\n",
       "    <tr>\n",
       "      <th>std</th>\n",
       "      <td>0.214602</td>\n",
       "      <td>0.163073</td>\n",
       "      <td>0.242824</td>\n",
       "      <td>3.523903</td>\n",
       "      <td>4.794422</td>\n",
       "      <td>0.475385</td>\n",
       "      <td>0.165562</td>\n",
       "      <td>0.331259</td>\n",
       "      <td>0.235690</td>\n",
       "      <td>0.185266</td>\n",
       "      <td>0.255341</td>\n",
       "      <td>29.413033</td>\n",
       "      <td>0.334220</td>\n",
       "    </tr>\n",
       "    <tr>\n",
       "      <th>min</th>\n",
       "      <td>0.000000</td>\n",
       "      <td>0.053200</td>\n",
       "      <td>0.000000</td>\n",
       "      <td>0.000000</td>\n",
       "      <td>-54.837000</td>\n",
       "      <td>0.000000</td>\n",
       "      <td>0.000000</td>\n",
       "      <td>0.000000</td>\n",
       "      <td>0.000000</td>\n",
       "      <td>0.005720</td>\n",
       "      <td>0.000000</td>\n",
       "      <td>30.506000</td>\n",
       "      <td>3.000000</td>\n",
       "    </tr>\n",
       "    <tr>\n",
       "      <th>25%</th>\n",
       "      <td>0.000000</td>\n",
       "      <td>0.462000</td>\n",
       "      <td>0.384000</td>\n",
       "      <td>2.000000</td>\n",
       "      <td>-12.362500</td>\n",
       "      <td>0.000000</td>\n",
       "      <td>0.033400</td>\n",
       "      <td>0.084000</td>\n",
       "      <td>0.000000</td>\n",
       "      <td>0.096900</td>\n",
       "      <td>0.353000</td>\n",
       "      <td>96.387000</td>\n",
       "      <td>4.000000</td>\n",
       "    </tr>\n",
       "    <tr>\n",
       "      <th>50%</th>\n",
       "      <td>0.000000</td>\n",
       "      <td>0.582000</td>\n",
       "      <td>0.576000</td>\n",
       "      <td>5.000000</td>\n",
       "      <td>-8.910000</td>\n",
       "      <td>1.000000</td>\n",
       "      <td>0.043300</td>\n",
       "      <td>0.364000</td>\n",
       "      <td>0.000014</td>\n",
       "      <td>0.137000</td>\n",
       "      <td>0.569000</td>\n",
       "      <td>118.128000</td>\n",
       "      <td>4.000000</td>\n",
       "    </tr>\n",
       "    <tr>\n",
       "      <th>75%</th>\n",
       "      <td>0.000000</td>\n",
       "      <td>0.689000</td>\n",
       "      <td>0.763000</td>\n",
       "      <td>8.000000</td>\n",
       "      <td>-6.313000</td>\n",
       "      <td>1.000000</td>\n",
       "      <td>0.073400</td>\n",
       "      <td>0.718000</td>\n",
       "      <td>0.003450</td>\n",
       "      <td>0.276000</td>\n",
       "      <td>0.774000</td>\n",
       "      <td>137.273000</td>\n",
       "      <td>4.000000</td>\n",
       "    </tr>\n",
       "    <tr>\n",
       "      <th>max</th>\n",
       "      <td>1.000000</td>\n",
       "      <td>0.991000</td>\n",
       "      <td>1.000000</td>\n",
       "      <td>11.000000</td>\n",
       "      <td>5.376000</td>\n",
       "      <td>1.000000</td>\n",
       "      <td>0.971000</td>\n",
       "      <td>0.996000</td>\n",
       "      <td>1.000000</td>\n",
       "      <td>1.000000</td>\n",
       "      <td>1.000000</td>\n",
       "      <td>246.381000</td>\n",
       "      <td>5.000000</td>\n",
       "    </tr>\n",
       "  </tbody>\n",
       "</table>\n",
       "</div>"
      ],
      "text/plain": [
       "            explicit   danceability         energy            key  \\\n",
       "count  514919.000000  514919.000000  514919.000000  514919.000000   \n",
       "mean        0.048396       0.569720       0.564994       5.227088   \n",
       "std         0.214602       0.163073       0.242824       3.523903   \n",
       "min         0.000000       0.053200       0.000000       0.000000   \n",
       "25%         0.000000       0.462000       0.384000       2.000000   \n",
       "50%         0.000000       0.582000       0.576000       5.000000   \n",
       "75%         0.000000       0.689000       0.763000       8.000000   \n",
       "max         1.000000       0.991000       1.000000      11.000000   \n",
       "\n",
       "            loudness           mode    speechiness   acousticness  \\\n",
       "count  514919.000000  514919.000000  514919.000000  514919.000000   \n",
       "mean       -9.800890       0.654952       0.097715       0.411296   \n",
       "std         4.794422       0.475385       0.165562       0.331259   \n",
       "min       -54.837000       0.000000       0.000000       0.000000   \n",
       "25%       -12.362500       0.000000       0.033400       0.084000   \n",
       "50%        -8.910000       1.000000       0.043300       0.364000   \n",
       "75%        -6.313000       1.000000       0.073400       0.718000   \n",
       "max         5.376000       1.000000       0.971000       0.996000   \n",
       "\n",
       "       instrumentalness       liveness        valence          tempo  \\\n",
       "count     514919.000000  514919.000000  514919.000000  514919.000000   \n",
       "mean           0.087655       0.212724       0.558458     119.321963   \n",
       "std            0.235690       0.185266       0.255341      29.413033   \n",
       "min            0.000000       0.005720       0.000000      30.506000   \n",
       "25%            0.000000       0.096900       0.353000      96.387000   \n",
       "50%            0.000014       0.137000       0.569000     118.128000   \n",
       "75%            0.003450       0.276000       0.774000     137.273000   \n",
       "max            1.000000       1.000000       1.000000     246.381000   \n",
       "\n",
       "       time_signature  \n",
       "count   514919.000000  \n",
       "mean         3.914864  \n",
       "std          0.334220  \n",
       "min          3.000000  \n",
       "25%          4.000000  \n",
       "50%          4.000000  \n",
       "75%          4.000000  \n",
       "max          5.000000  "
      ]
     },
     "execution_count": 7,
     "metadata": {},
     "output_type": "execute_result"
    }
   ],
   "source": [
    "X = df[['explicit', 'danceability', 'energy', 'key', 'loudness', 'mode', 'speechiness', 'acousticness', 'instrumentalness', 'liveness', 'valence', 'tempo', 'time_signature']]\n",
    "X.describe()"
   ]
  },
  {
   "cell_type": "markdown",
   "metadata": {},
   "source": [
    "Let's use Seaborn capabilities to derive insights from feature correlation. The following plots show no significant correlation between features. Straight parallel lines belong to categorical features (integer values) that will be processed as such later on."
   ]
  },
  {
   "cell_type": "code",
   "execution_count": null,
   "metadata": {},
   "outputs": [
    {
     "data": {
      "text/plain": [
       "<seaborn.axisgrid.PairGrid at 0x7fee9c4fbe50>"
      ]
     },
     "execution_count": 8,
     "metadata": {},
     "output_type": "execute_result"
    }
   ],
   "source": [
    "sns.pairplot(X)"
   ]
  },
  {
   "cell_type": "code",
   "execution_count": null,
   "metadata": {},
   "outputs": [],
   "source": [
    "y = df.popularity.values"
   ]
  },
  {
   "cell_type": "markdown",
   "metadata": {},
   "source": [
    "Now let's cast the categorical columns type as 'category' and then use the sklearn selector() method to create a list of numerical columns and a list of categorical columns:"
   ]
  },
  {
   "cell_type": "code",
   "execution_count": null,
   "metadata": {},
   "outputs": [],
   "source": [
    "X.loc[:, ['explicit', 'key', 'mode', 'time_signature']] = X.loc[:, ['explicit', 'key', 'mode', 'time_signature']].astype('category')"
   ]
  },
  {
   "cell_type": "code",
   "execution_count": null,
   "metadata": {},
   "outputs": [],
   "source": [
    "numerical_columns_selector = selector(dtype_exclude='category')\n",
    "categorical_columns_selector = selector(dtype_include='category')\n",
    "\n",
    "numerical_columns = numerical_columns_selector(X)\n",
    "categorical_columns = categorical_columns_selector(X)"
   ]
  },
  {
   "cell_type": "code",
   "execution_count": null,
   "metadata": {},
   "outputs": [],
   "source": [
    "numerical_columns"
   ]
  },
  {
   "cell_type": "code",
   "execution_count": null,
   "metadata": {},
   "outputs": [],
   "source": [
    "categorical_columns"
   ]
  },
  {
   "cell_type": "code",
   "execution_count": null,
   "metadata": {},
   "outputs": [],
   "source": [
    "X.dtypes"
   ]
  },
  {
   "cell_type": "markdown",
   "metadata": {},
   "source": [
    "Now let's define the transformers (preprocessors) for our sklearn pipeline: OneHotEncoder() for categorical columns and StandardScaler() for numerical columns."
   ]
  },
  {
   "cell_type": "code",
   "execution_count": null,
   "metadata": {},
   "outputs": [],
   "source": [
    "categorical_preprocessor = OneHotEncoder(handle_unknown=\"ignore\")\n",
    "numerical_preprocessor = StandardScaler()"
   ]
  },
  {
   "cell_type": "markdown",
   "metadata": {},
   "source": [
    "The ColumnTransformer splits the columns of the original dataset based on column names, transforms each subset  by calling the predefined fit_transform and finally concatenates the transformed datasets into a single dataset for training. The same steps will be applied when calling the predict() method."
   ]
  },
  {
   "cell_type": "code",
   "execution_count": null,
   "metadata": {},
   "outputs": [],
   "source": [
    "preprocessor = ColumnTransformer([\n",
    "    ('One-Hot-Encoder', categorical_preprocessor, categorical_columns),\n",
    "    ('Standard-Scaler', numerical_preprocessor, numerical_columns)])"
   ]
  },
  {
   "cell_type": "markdown",
   "metadata": {},
   "source": [
    "Let's define our model (default number of iteration for training = 1000 epochs) and let's visualize our pipeline architecture:"
   ]
  },
  {
   "cell_type": "code",
   "execution_count": null,
   "metadata": {},
   "outputs": [],
   "source": [
    "model = make_pipeline(preprocessor, LinearRegression())\n",
    "set_config(display='diagram')\n",
    "model"
   ]
  },
  {
   "cell_type": "markdown",
   "metadata": {},
   "source": [
    "Let's split the data into train and test sets with a 80/20 ratio:"
   ]
  },
  {
   "cell_type": "code",
   "execution_count": null,
   "metadata": {},
   "outputs": [],
   "source": [
    "data_train, data_test, target_train, target_test = train_test_split(X, y, test_size=0.2)"
   ]
  },
  {
   "cell_type": "markdown",
   "metadata": {},
   "source": [
    "Training the model:"
   ]
  },
  {
   "cell_type": "code",
   "execution_count": null,
   "metadata": {},
   "outputs": [],
   "source": [
    "_ = model.fit(data_train, target_train)"
   ]
  },
  {
   "cell_type": "markdown",
   "metadata": {},
   "source": [
    "Predictions and performance metrics for training and test sets: the MAE metric is quite similar for both sets."
   ]
  },
  {
   "cell_type": "code",
   "execution_count": null,
   "metadata": {},
   "outputs": [],
   "source": [
    "pred_test = model.predict(data_test)\n",
    "pred_train = model.predict(data_train)"
   ]
  },
  {
   "cell_type": "code",
   "execution_count": null,
   "metadata": {},
   "outputs": [],
   "source": [
    "mean_absolute_error(target_train, pred_train)"
   ]
  },
  {
   "cell_type": "code",
   "execution_count": null,
   "metadata": {},
   "outputs": [],
   "source": [
    "mean_absolute_error(target_test, pred_test)"
   ]
  },
  {
   "cell_type": "code",
   "execution_count": null,
   "metadata": {},
   "outputs": [],
   "source": [
    "visualizer = ResidualsPlot(model, hist=True, qqplot=False)\n",
    "visualizer.fit(data_train, target_train)\n",
    "visualizer.score(data_test, target_test)\n",
    "visualizer.show()"
   ]
  },
  {
   "cell_type": "code",
   "execution_count": null,
   "metadata": {},
   "outputs": [],
   "source": [
    "Now let's visualize the predictions error and the R-squared metric. The latter is a ratio between the variance explained by the model and the total variance. "
   ]
  },
  {
   "cell_type": "code",
   "execution_count": null,
   "metadata": {},
   "outputs": [],
   "source": [
    "visualizer = PredictionError(model)\n",
    "visualizer.fit(data_train, target_train)\n",
    "visualizer.score(data_test, target_test)\n",
    "visualizer.show()"
   ]
  },
  {
   "cell_type": "code",
   "execution_count": null,
   "metadata": {},
   "outputs": [],
   "source": [
    "err = abs(target_test - pred_test)\n",
    "error = pd.DataFrame(err, columns = ['error'])\n",
    "error.plot.hist(bins=100)"
   ]
  },
  {
   "cell_type": "code",
   "execution_count": null,
   "metadata": {},
   "outputs": [],
   "source": [
    "error.describe()"
   ]
  },
  {
   "cell_type": "code",
   "execution_count": null,
   "metadata": {},
   "outputs": [],
   "source": [
    "predictions = pd.DataFrame(pred_test, columns=['predictions'])\n",
    "predictions.plot.hist(bins=100)"
   ]
  },
  {
   "cell_type": "code",
   "execution_count": null,
   "metadata": {},
   "outputs": [],
   "source": [
    "predictions.describe()"
   ]
  }
 ],
 "metadata": {
  "kernelspec": {
   "display_name": "Python 3",
   "language": "python",
   "name": "python3"
  },
  "language_info": {
   "codemirror_mode": {
    "name": "ipython",
    "version": 3
   },
   "file_extension": ".py",
   "mimetype": "text/x-python",
   "name": "python",
   "nbconvert_exporter": "python",
   "pygments_lexer": "ipython3",
   "version": "3.8.5"
  }
 },
 "nbformat": 4,
 "nbformat_minor": 4
}
